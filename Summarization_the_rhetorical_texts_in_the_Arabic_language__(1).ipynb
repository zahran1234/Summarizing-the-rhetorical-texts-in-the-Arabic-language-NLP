{
  "cells": [
    {
      "cell_type": "markdown",
      "metadata": {
        "id": "a730c022"
      },
      "source": [
        "## data preprossing "
      ],
      "id": "a730c022"
    },
    {
      "cell_type": "code",
      "execution_count": 1,
      "metadata": {
        "colab": {
          "base_uri": "https://localhost:8080/"
        },
        "id": "1883bd92",
        "outputId": "dae91b2a-69ed-43f3-fae9-2b5fb5e0bad3"
      },
      "outputs": [
        {
          "output_type": "stream",
          "name": "stdout",
          "text": [
            "Looking in indexes: https://pypi.org/simple, https://us-python.pkg.dev/colab-wheels/public/simple/\n",
            "Collecting transformers\n",
            "  Downloading transformers-4.28.1-py3-none-any.whl (7.0 MB)\n",
            "\u001b[2K     \u001b[90m━━━━━━━━━━━━━━━━━━━━━━━━━━━━━━━━━━━━━━━━\u001b[0m \u001b[32m7.0/7.0 MB\u001b[0m \u001b[31m67.8 MB/s\u001b[0m eta \u001b[36m0:00:00\u001b[0m\n",
            "\u001b[?25hRequirement already satisfied: regex!=2019.12.17 in /usr/local/lib/python3.10/dist-packages (from transformers) (2022.10.31)\n",
            "Requirement already satisfied: packaging>=20.0 in /usr/local/lib/python3.10/dist-packages (from transformers) (23.1)\n",
            "Requirement already satisfied: tqdm>=4.27 in /usr/local/lib/python3.10/dist-packages (from transformers) (4.65.0)\n",
            "Requirement already satisfied: filelock in /usr/local/lib/python3.10/dist-packages (from transformers) (3.12.0)\n",
            "Requirement already satisfied: numpy>=1.17 in /usr/local/lib/python3.10/dist-packages (from transformers) (1.22.4)\n",
            "Collecting huggingface-hub<1.0,>=0.11.0\n",
            "  Downloading huggingface_hub-0.14.1-py3-none-any.whl (224 kB)\n",
            "\u001b[2K     \u001b[90m━━━━━━━━━━━━━━━━━━━━━━━━━━━━━━━━━━━━━━\u001b[0m \u001b[32m224.5/224.5 kB\u001b[0m \u001b[31m21.4 MB/s\u001b[0m eta \u001b[36m0:00:00\u001b[0m\n",
            "\u001b[?25hRequirement already satisfied: requests in /usr/local/lib/python3.10/dist-packages (from transformers) (2.27.1)\n",
            "Requirement already satisfied: pyyaml>=5.1 in /usr/local/lib/python3.10/dist-packages (from transformers) (6.0)\n",
            "Collecting tokenizers!=0.11.3,<0.14,>=0.11.1\n",
            "  Downloading tokenizers-0.13.3-cp310-cp310-manylinux_2_17_x86_64.manylinux2014_x86_64.whl (7.8 MB)\n",
            "\u001b[2K     \u001b[90m━━━━━━━━━━━━━━━━━━━━━━━━━━━━━━━━━━━━━━━━\u001b[0m \u001b[32m7.8/7.8 MB\u001b[0m \u001b[31m100.1 MB/s\u001b[0m eta \u001b[36m0:00:00\u001b[0m\n",
            "\u001b[?25hRequirement already satisfied: fsspec in /usr/local/lib/python3.10/dist-packages (from huggingface-hub<1.0,>=0.11.0->transformers) (2023.4.0)\n",
            "Requirement already satisfied: typing-extensions>=3.7.4.3 in /usr/local/lib/python3.10/dist-packages (from huggingface-hub<1.0,>=0.11.0->transformers) (4.5.0)\n",
            "Requirement already satisfied: idna<4,>=2.5 in /usr/local/lib/python3.10/dist-packages (from requests->transformers) (3.4)\n",
            "Requirement already satisfied: urllib3<1.27,>=1.21.1 in /usr/local/lib/python3.10/dist-packages (from requests->transformers) (1.26.15)\n",
            "Requirement already satisfied: certifi>=2017.4.17 in /usr/local/lib/python3.10/dist-packages (from requests->transformers) (2022.12.7)\n",
            "Requirement already satisfied: charset-normalizer~=2.0.0 in /usr/local/lib/python3.10/dist-packages (from requests->transformers) (2.0.12)\n",
            "Installing collected packages: tokenizers, huggingface-hub, transformers\n",
            "Successfully installed huggingface-hub-0.14.1 tokenizers-0.13.3 transformers-4.28.1\n",
            "Cloning into 'arabert'...\n",
            "remote: Enumerating objects: 600, done.\u001b[K\n",
            "remote: Counting objects: 100% (65/65), done.\u001b[K\n",
            "remote: Compressing objects: 100% (33/33), done.\u001b[K\n",
            "remote: Total 600 (delta 38), reused 45 (delta 30), pack-reused 535\u001b[K\n",
            "Receiving objects: 100% (600/600), 9.14 MiB | 13.67 MiB/s, done.\n",
            "Resolving deltas: 100% (339/339), done.\n",
            "Looking in indexes: https://pypi.org/simple, https://us-python.pkg.dev/colab-wheels/public/simple/\n",
            "Collecting PyArabic\n",
            "  Downloading PyArabic-0.6.15-py3-none-any.whl (126 kB)\n",
            "\u001b[2K     \u001b[90m━━━━━━━━━━━━━━━━━━━━━━━━━━━━━━━━━━━━━━━\u001b[0m \u001b[32m126.4/126.4 kB\u001b[0m \u001b[31m5.4 MB/s\u001b[0m eta \u001b[36m0:00:00\u001b[0m\n",
            "\u001b[?25hCollecting farasapy\n",
            "  Downloading farasapy-0.0.14-py3-none-any.whl (11 kB)\n",
            "Collecting emoji==1.4.2\n",
            "  Downloading emoji-1.4.2.tar.gz (184 kB)\n",
            "\u001b[2K     \u001b[90m━━━━━━━━━━━━━━━━━━━━━━━━━━━━━━━━━━━━━━\u001b[0m \u001b[32m185.0/185.0 kB\u001b[0m \u001b[31m15.8 MB/s\u001b[0m eta \u001b[36m0:00:00\u001b[0m\n",
            "\u001b[?25h  Preparing metadata (setup.py) ... \u001b[?25l\u001b[?25hdone\n",
            "Requirement already satisfied: six>=1.14.0 in /usr/local/lib/python3.10/dist-packages (from PyArabic->-r arabert/requirements.txt (line 3)) (1.16.0)\n",
            "Requirement already satisfied: tqdm in /usr/local/lib/python3.10/dist-packages (from farasapy->-r arabert/requirements.txt (line 4)) (4.65.0)\n",
            "Requirement already satisfied: requests in /usr/local/lib/python3.10/dist-packages (from farasapy->-r arabert/requirements.txt (line 4)) (2.27.1)\n",
            "Requirement already satisfied: charset-normalizer~=2.0.0 in /usr/local/lib/python3.10/dist-packages (from requests->farasapy->-r arabert/requirements.txt (line 4)) (2.0.12)\n",
            "Requirement already satisfied: urllib3<1.27,>=1.21.1 in /usr/local/lib/python3.10/dist-packages (from requests->farasapy->-r arabert/requirements.txt (line 4)) (1.26.15)\n",
            "Requirement already satisfied: certifi>=2017.4.17 in /usr/local/lib/python3.10/dist-packages (from requests->farasapy->-r arabert/requirements.txt (line 4)) (2022.12.7)\n",
            "Requirement already satisfied: idna<4,>=2.5 in /usr/local/lib/python3.10/dist-packages (from requests->farasapy->-r arabert/requirements.txt (line 4)) (3.4)\n",
            "Building wheels for collected packages: emoji\n",
            "  Building wheel for emoji (setup.py) ... \u001b[?25l\u001b[?25hdone\n",
            "  Created wheel for emoji: filename=emoji-1.4.2-py3-none-any.whl size=186471 sha256=d7ea062ff76415115c472721c13b6a65e1b5adbf0905e2f544958365be2cc416\n",
            "  Stored in directory: /root/.cache/pip/wheels/10/f0/fd/4813b1177405693e8da9cdea839f0fb64fde161380e058c827\n",
            "Successfully built emoji\n",
            "Installing collected packages: emoji, PyArabic, farasapy\n",
            "Successfully installed PyArabic-0.6.15 emoji-1.4.2 farasapy-0.0.14\n",
            "Looking in indexes: https://pypi.org/simple, https://us-python.pkg.dev/colab-wheels/public/simple/\n",
            "Collecting naftawayh\n",
            "  Downloading Naftawayh-0.4-py3-none-any.whl (332 kB)\n",
            "\u001b[2K     \u001b[90m━━━━━━━━━━━━━━━━━━━━━━━━━━━━━━━━━━━━━━━\u001b[0m \u001b[32m332.6/332.6 kB\u001b[0m \u001b[31m9.9 MB/s\u001b[0m eta \u001b[36m0:00:00\u001b[0m\n",
            "\u001b[?25hRequirement already satisfied: pyarabic in /usr/local/lib/python3.10/dist-packages (from naftawayh) (0.6.15)\n",
            "Collecting tashaphyne\n",
            "  Downloading Tashaphyne-0.3.6-py3-none-any.whl (251 kB)\n",
            "\u001b[2K     \u001b[90m━━━━━━━━━━━━━━━━━━━━━━━━━━━━━━━━━━━━━━\u001b[0m \u001b[32m251.5/251.5 kB\u001b[0m \u001b[31m26.7 MB/s\u001b[0m eta \u001b[36m0:00:00\u001b[0m\n",
            "\u001b[?25hRequirement already satisfied: six>=1.14.0 in /usr/local/lib/python3.10/dist-packages (from pyarabic->naftawayh) (1.16.0)\n",
            "Installing collected packages: tashaphyne, naftawayh\n",
            "Successfully installed naftawayh-0.4 tashaphyne-0.3.6\n",
            "Looking in indexes: https://pypi.org/simple, https://us-python.pkg.dev/colab-wheels/public/simple/\n",
            "Collecting qalsadi\n",
            "  Downloading qalsadi-0.4.6-py3-none-any.whl (256 kB)\n",
            "\u001b[2K     \u001b[90m━━━━━━━━━━━━━━━━━━━━━━━━━━━━━━━━━━━━━━━\u001b[0m \u001b[32m256.6/256.6 kB\u001b[0m \u001b[31m9.2 MB/s\u001b[0m eta \u001b[36m0:00:00\u001b[0m\n",
            "\u001b[?25hCollecting alyahmor>=0.1\n",
            "  Downloading alyahmor-0.2-py3-none-any.whl (65 kB)\n",
            "\u001b[2K     \u001b[90m━━━━━━━━━━━━━━━━━━━━━━━━━━━━━━━━━━━━━━━━\u001b[0m \u001b[32m65.1/65.1 kB\u001b[0m \u001b[31m7.3 MB/s\u001b[0m eta \u001b[36m0:00:00\u001b[0m\n",
            "\u001b[?25hRequirement already satisfied: naftawayh>=0.3 in /usr/local/lib/python3.10/dist-packages (from qalsadi) (0.4)\n",
            "Requirement already satisfied: future>=0.16.0 in /usr/local/lib/python3.10/dist-packages (from qalsadi) (0.18.3)\n",
            "Collecting pickledb>=0.9.2\n",
            "  Downloading pickleDB-0.9.2.tar.gz (3.7 kB)\n",
            "  Preparing metadata (setup.py) ... \u001b[?25l\u001b[?25hdone\n",
            "Collecting arramooz-pysqlite>=0.3\n",
            "  Downloading arramooz_pysqlite-0.4.1-py3-none-any.whl (14.5 MB)\n",
            "\u001b[2K     \u001b[90m━━━━━━━━━━━━━━━━━━━━━━━━━━━━━━━━━━━━━━━━\u001b[0m \u001b[32m14.5/14.5 MB\u001b[0m \u001b[31m18.1 MB/s\u001b[0m eta \u001b[36m0:00:00\u001b[0m\n",
            "\u001b[?25hRequirement already satisfied: tashaphyne>=0.3.4.1 in /usr/local/lib/python3.10/dist-packages (from qalsadi) (0.3.6)\n",
            "Requirement already satisfied: six>=1.10.0 in /usr/local/lib/python3.10/dist-packages (from qalsadi) (1.16.0)\n",
            "Requirement already satisfied: pyarabic>=0.6.7 in /usr/local/lib/python3.10/dist-packages (from qalsadi) (0.6.15)\n",
            "Collecting Arabic-Stopwords>=0.3\n",
            "  Downloading Arabic_Stopwords-0.4.3-py3-none-any.whl (360 kB)\n",
            "\u001b[2K     \u001b[90m━━━━━━━━━━━━━━━━━━━━━━━━━━━━━━━━━━━━━━\u001b[0m \u001b[32m360.5/360.5 kB\u001b[0m \u001b[31m30.1 MB/s\u001b[0m eta \u001b[36m0:00:00\u001b[0m\n",
            "\u001b[?25hCollecting libqutrub>=1.2.3\n",
            "  Downloading libqutrub-1.2.4.1-py3-none-any.whl (138 kB)\n",
            "\u001b[2K     \u001b[90m━━━━━━━━━━━━━━━━━━━━━━━━━━━━━━━━━━━━━━\u001b[0m \u001b[32m139.0/139.0 kB\u001b[0m \u001b[31m16.8 MB/s\u001b[0m eta \u001b[36m0:00:00\u001b[0m\n",
            "\u001b[?25hBuilding wheels for collected packages: pickledb\n",
            "  Building wheel for pickledb (setup.py) ... \u001b[?25l\u001b[?25hdone\n",
            "  Created wheel for pickledb: filename=pickleDB-0.9.2-py3-none-any.whl size=4270 sha256=651d4f285ec7977646ce2f3ae9b69c3133de5c3003b70fbd93533e40375dbe3a\n",
            "  Stored in directory: /root/.cache/pip/wheels/31/99/ef/8bf37f0157e6423a373297de279351af04ad18c4136c3af121\n",
            "Successfully built pickledb\n",
            "Installing collected packages: pickledb, libqutrub, arramooz-pysqlite, Arabic-Stopwords, alyahmor, qalsadi\n",
            "Successfully installed Arabic-Stopwords-0.4.3 alyahmor-0.2 arramooz-pysqlite-0.4.1 libqutrub-1.2.4.1 pickledb-0.9.2 qalsadi-0.4.6\n",
            "Looking in indexes: https://pypi.org/simple, https://us-python.pkg.dev/colab-wheels/public/simple/\n",
            "Collecting fuzzywuzzy\n",
            "  Downloading fuzzywuzzy-0.18.0-py2.py3-none-any.whl (18 kB)\n",
            "Installing collected packages: fuzzywuzzy\n",
            "Successfully installed fuzzywuzzy-0.18.0\n",
            "Looking in indexes: https://pypi.org/simple, https://us-python.pkg.dev/colab-wheels/public/simple/\n",
            "Collecting python-Levenshtein\n",
            "  Downloading python_Levenshtein-0.21.0-py3-none-any.whl (9.4 kB)\n",
            "Collecting Levenshtein==0.21.0\n",
            "  Downloading Levenshtein-0.21.0-cp310-cp310-manylinux_2_17_x86_64.manylinux2014_x86_64.whl (174 kB)\n",
            "\u001b[2K     \u001b[90m━━━━━━━━━━━━━━━━━━━━━━━━━━━━━━━━━━━━━━━\u001b[0m \u001b[32m174.1/174.1 kB\u001b[0m \u001b[31m7.0 MB/s\u001b[0m eta \u001b[36m0:00:00\u001b[0m\n",
            "\u001b[?25hCollecting rapidfuzz<4.0.0,>=2.3.0\n",
            "  Downloading rapidfuzz-3.0.0-cp310-cp310-manylinux_2_17_x86_64.manylinux2014_x86_64.whl (3.0 MB)\n",
            "\u001b[2K     \u001b[90m━━━━━━━━━━━━━━━━━━━━━━━━━━━━━━━━━━━━━━━━\u001b[0m \u001b[32m3.0/3.0 MB\u001b[0m \u001b[31m62.2 MB/s\u001b[0m eta \u001b[36m0:00:00\u001b[0m\n",
            "\u001b[?25hInstalling collected packages: rapidfuzz, Levenshtein, python-Levenshtein\n",
            "Successfully installed Levenshtein-0.21.0 python-Levenshtein-0.21.0 rapidfuzz-3.0.0\n"
          ]
        }
      ],
      "source": [
        "\n",
        "!pip install transformers\n",
        "!git clone https://github.com/aub-mind/arabert\n",
        "!pip install -r arabert/requirements.txt\n",
        "!pip  install naftawayh\n",
        "!pip install qalsadi\n",
        "!pip install fuzzywuzzy\n",
        "!pip install python-Levenshtein\n",
        "import nltk\n",
        "#nltk.download('stopwords')\n",
        "import re\n",
        "from nltk.tokenize import word_tokenize\n",
        "from nltk.tokenize import sent_tokenize\n",
        "from nltk.corpus import stopwords \n",
        "from nltk.stem.porter import PorterStemmer\n",
        "from nltk.stem import WordNetLemmatizer\n",
        "from nltk.stem import ARLSTem\n",
        "from nltk.stem.isri import ISRIStemmer\n",
        "\n",
        "\n",
        "import naftawayh\n",
        "from fuzzywuzzy import fuzz\n",
        "from fuzzywuzzy import process"
      ],
      "id": "1883bd92"
    },
    {
      "cell_type": "code",
      "execution_count": 2,
      "metadata": {
        "colab": {
          "base_uri": "https://localhost:8080/"
        },
        "id": "fzzjr6tKLnWa",
        "outputId": "d8398ea4-b597-4a20-9c86-d85a1de69717"
      },
      "outputs": [
        {
          "output_type": "stream",
          "name": "stdout",
          "text": [
            "Looking in indexes: https://pypi.org/simple, https://us-python.pkg.dev/colab-wheels/public/simple/\n",
            "Requirement already satisfied: farasapy==0.0.14 in /usr/local/lib/python3.10/dist-packages (0.0.14)\n",
            "Requirement already satisfied: tqdm in /usr/local/lib/python3.10/dist-packages (from farasapy==0.0.14) (4.65.0)\n",
            "Requirement already satisfied: requests in /usr/local/lib/python3.10/dist-packages (from farasapy==0.0.14) (2.27.1)\n",
            "Requirement already satisfied: idna<4,>=2.5 in /usr/local/lib/python3.10/dist-packages (from requests->farasapy==0.0.14) (3.4)\n",
            "Requirement already satisfied: charset-normalizer~=2.0.0 in /usr/local/lib/python3.10/dist-packages (from requests->farasapy==0.0.14) (2.0.12)\n",
            "Requirement already satisfied: certifi>=2017.4.17 in /usr/local/lib/python3.10/dist-packages (from requests->farasapy==0.0.14) (2022.12.7)\n",
            "Requirement already satisfied: urllib3<1.27,>=1.21.1 in /usr/local/lib/python3.10/dist-packages (from requests->farasapy==0.0.14) (1.26.15)\n",
            "Looking in indexes: https://pypi.org/simple, https://us-python.pkg.dev/colab-wheels/public/simple/\n",
            "Collecting pyarabic==0.6.14\n",
            "  Downloading PyArabic-0.6.14-py3-none-any.whl (126 kB)\n",
            "\u001b[2K     \u001b[90m━━━━━━━━━━━━━━━━━━━━━━━━━━━━━━━━━━━━━━━\u001b[0m \u001b[32m126.4/126.4 kB\u001b[0m \u001b[31m6.2 MB/s\u001b[0m eta \u001b[36m0:00:00\u001b[0m\n",
            "\u001b[?25hRequirement already satisfied: six>=1.14.0 in /usr/local/lib/python3.10/dist-packages (from pyarabic==0.6.14) (1.16.0)\n",
            "Installing collected packages: pyarabic\n",
            "  Attempting uninstall: pyarabic\n",
            "    Found existing installation: PyArabic 0.6.15\n",
            "    Uninstalling PyArabic-0.6.15:\n",
            "      Successfully uninstalled PyArabic-0.6.15\n",
            "Successfully installed pyarabic-0.6.14\n",
            "Looking in indexes: https://pypi.org/simple, https://us-python.pkg.dev/colab-wheels/public/simple/\n",
            "Collecting emoji==1.6.1\n",
            "  Downloading emoji-1.6.1.tar.gz (170 kB)\n",
            "\u001b[2K     \u001b[90m━━━━━━━━━━━━━━━━━━━━━━━━━━━━━━━━━━━━━━━\u001b[0m \u001b[32m170.0/170.0 kB\u001b[0m \u001b[31m7.5 MB/s\u001b[0m eta \u001b[36m0:00:00\u001b[0m\n",
            "\u001b[?25h  Preparing metadata (setup.py) ... \u001b[?25l\u001b[?25hdone\n",
            "Building wheels for collected packages: emoji\n",
            "  Building wheel for emoji (setup.py) ... \u001b[?25l\u001b[?25hdone\n",
            "  Created wheel for emoji: filename=emoji-1.6.1-py3-none-any.whl size=169312 sha256=c16c680240e788ce777a477a12b988eac41a2c457d5ad6d0373665a0c7d0293c\n",
            "  Stored in directory: /root/.cache/pip/wheels/3d/c9/af/02caa5725634f27f4e2e43852f67fc9069d014038b236a827e\n",
            "Successfully built emoji\n",
            "Installing collected packages: emoji\n",
            "  Attempting uninstall: emoji\n",
            "    Found existing installation: emoji 1.4.2\n",
            "    Uninstalling emoji-1.4.2:\n",
            "      Successfully uninstalled emoji-1.4.2\n",
            "Successfully installed emoji-1.6.1\n",
            "Looking in indexes: https://pypi.org/simple, https://us-python.pkg.dev/colab-wheels/public/simple/\n",
            "Collecting sentencepiece==0.1.96\n",
            "  Downloading sentencepiece-0.1.96-cp310-cp310-manylinux_2_17_x86_64.manylinux2014_x86_64.whl (1.2 MB)\n",
            "\u001b[2K     \u001b[90m━━━━━━━━━━━━━━━━━━━━━━━━━━━━━━━━━━━━━━━━\u001b[0m \u001b[32m1.2/1.2 MB\u001b[0m \u001b[31m25.9 MB/s\u001b[0m eta \u001b[36m0:00:00\u001b[0m\n",
            "\u001b[?25hInstalling collected packages: sentencepiece\n",
            "Successfully installed sentencepiece-0.1.96\n"
          ]
        }
      ],
      "source": [
        "!pip install farasapy==0.0.14\n",
        "!pip install pyarabic==0.6.14\n",
        "!pip install emoji==1.6.1\n",
        "!pip install sentencepiece==0.1.96"
      ],
      "id": "fzzjr6tKLnWa"
    },
    {
      "cell_type": "code",
      "execution_count": 3,
      "metadata": {
        "id": "0de33f70"
      },
      "outputs": [],
      "source": [
        "from qalsadi import lemmatizer \n",
        "from transformers import AutoTokenizer, AutoModel\n",
        "\n",
        "from arabert.preprocess import ArabertPreprocessor\n",
        "import pandas as pd\n",
        "from typing import List\n",
        "from tqdm import tqdm_notebook as tqdm\n",
        "import torch\n",
        "import random\n",
        "import matplotlib.pyplot as plt\n",
        "import copy\n",
        "from arabert.preprocess import ArabertPreprocessor\n",
        "from torch.utils.data import DataLoader, Dataset\n",
        "from transformers import (AutoConfig, AutoModelForSequenceClassification,\n",
        "                          AutoTokenizer, BertTokenizer, Trainer,\n",
        "                          TrainingArguments)\n",
        "from transformers.data.processors.utils import InputFeatures"
      ],
      "id": "0de33f70"
    },
    {
      "cell_type": "code",
      "execution_count": 4,
      "metadata": {
        "id": "QfCugsYPtnDP"
      },
      "outputs": [],
      "source": [
        "text= open(\"/content/1 - Copy (1).txt\", encoding='utf-8')\n",
        "text=text.read()"
      ],
      "id": "QfCugsYPtnDP"
    },
    {
      "cell_type": "markdown",
      "metadata": {
        "id": "c39b771c"
      },
      "source": [
        "\n"
      ],
      "id": "c39b771c"
    },
    {
      "cell_type": "code",
      "execution_count": 5,
      "metadata": {
        "id": "c0d7a8a8"
      },
      "outputs": [],
      "source": [
        "#Regular Expression\n",
        "text= re.sub('،', '.',text) # في اللغه العربيه ممكن افصل بين الجمل و بعضها بفصلها لذالك هيتم اسبدالها ب نقصه \n",
        "\n",
        "\n"
      ],
      "id": "c0d7a8a8"
    },
    {
      "cell_type": "code",
      "source": [
        "import nltk\n",
        "nltk.download('punkt')\n",
        "out=\"أي . فقد . لأن . لأني . لأنني . بسبب . راجع إلى . لكي . لأجل ذلك . ويعزى إلى . بناءً على . علماً بأن . علماً أني . علمأ أنني . علماً بأنني . إلا . إلا أن . إلا أنني . على الرغم , كما .  بالإضافة إلى . أضف الى ذلك . وقس على ذلك. اذاً . ماعدا . بإستثناء \"\n",
        "out =sent_tokenize(out)\n",
        "out=[re.sub(r'[^ء-ي ]','',i) for  i in out ]"
      ],
      "metadata": {
        "id": "zHJcjMbhtJM2",
        "colab": {
          "base_uri": "https://localhost:8080/"
        },
        "outputId": "dd74d51e-d7c5-4c40-b849-5344554834b0"
      },
      "id": "zHJcjMbhtJM2",
      "execution_count": 6,
      "outputs": [
        {
          "output_type": "stream",
          "name": "stderr",
          "text": [
            "[nltk_data] Downloading package punkt to /root/nltk_data...\n",
            "[nltk_data]   Unzipping tokenizers/punkt.zip.\n"
          ]
        }
      ]
    },
    {
      "cell_type": "code",
      "source": [],
      "metadata": {
        "id": "FL6-HzMMvnuE"
      },
      "id": "FL6-HzMMvnuE",
      "execution_count": 6,
      "outputs": []
    },
    {
      "cell_type": "code",
      "execution_count": 7,
      "metadata": {
        "colab": {
          "base_uri": "https://localhost:8080/"
        },
        "id": "cd0f2585",
        "outputId": "b2170782-10a9-4f0a-c293-c1a7234e064b"
      },
      "outputs": [
        {
          "output_type": "stream",
          "name": "stderr",
          "text": [
            "[nltk_data] Downloading package punkt to /root/nltk_data...\n",
            "[nltk_data]   Package punkt is already up-to-date!\n"
          ]
        }
      ],
      "source": [
        "#sentences  tokenize\n",
        "nltk.download('punkt')\n",
        "text_sentences_= sent_tokenize(text)\n",
        "#text_sentences\n"
      ],
      "id": "cd0f2585"
    },
    {
      "cell_type": "markdown",
      "source": [
        "***last updata***"
      ],
      "metadata": {
        "id": "AJZLo44LyZw_"
      },
      "id": "AJZLo44LyZw_"
    },
    {
      "cell_type": "code",
      "source": [
        "for i in range(len(text_sentences_)-1):\n",
        "  for x in out:\n",
        "    if text_sentences_[i+1].startswith(x):\n",
        "      text_sentences_[i]=text_sentences_[i]+text_sentences_[i+1]\n",
        "      text_sentences_[i+1]=\"\"\n",
        "text_sentences=[]\n",
        "for i in text_sentences_:\n",
        "  if i!= \"\":\n",
        "    text_sentences.append(i)\n",
        "text_sentences\n"
      ],
      "metadata": {
        "id": "077fKhKUxgHe",
        "colab": {
          "base_uri": "https://localhost:8080/"
        },
        "outputId": "96565167-fca5-4da3-8cc9-12bb2e0ef9a8"
      },
      "id": "077fKhKUxgHe",
      "execution_count": 8,
      "outputs": [
        {
          "output_type": "execute_result",
          "data": {
            "text/plain": [
              "['﴿ (3) المقامة الثالثة وتعريف بالعقيقة  ﴾ \\n۞۞۞۞۞۞۞\\nكتاب مجمع البحرين لليازجي\\n \\n حكى سهيل بن عباد قال: بكرت يوماً بكور الزاجر.',\n",
              " 'في معمعان ناجر.',\n",
              " 'خوفاً من اصطكاك الهواجر.',\n",
              " 'فأمعنت في السياحة.',\n",
              " 'وجعلت أقطع ساحة بعد ساحة.',\n",
              " 'حتى إذا تخللت بعض الغيطان.',\n",
              " 'وقد سال عليها مخاط الشيطان.',\n",
              " 'رأيت كتيبة من الرجال.',\n",
              " 'على كثيب من الرمال.',\n",
              " 'فبذلت في شاكلة الجواد المهماز.',\n",
              " 'ورددت صدور الأرض على الأعجاز.',\n",
              " 'حتى أدركت القوم.',\n",
              " 'في منتصف اليوم.',\n",
              " 'وإذا جنازة قد أودعوها التراب.',\n",
              " 'وشيخ على دكة قد افتتح الخطاب.',\n",
              " 'فقال: يا كرام المعاشر والعشائر.',\n",
              " 'يا كرام المعاشر والعشائر.',\n",
              " 'وأولي الأبصار والبصائر.',\n",
              " 'أرأيتم ما أحرج هذا البيت.',\n",
              " 'وأسمج هذا الميت؟ طالما جد وكد.',\n",
              " 'واشتد واعتد.',\n",
              " 'وركب الأهوال.',\n",
              " 'واحتشد الأموال.',\n",
              " 'فانظروا أين ما جمع.',\n",
              " 'وهل أتى بشيء منه إلى هذا المضجع.',\n",
              " 'وطالما شمخ.',\n",
              " 'وبذخ.',\n",
              " 'وأسرف.',\n",
              " 'واستطرف.',\n",
              " 'وتأنق في الطعام والشراب.',\n",
              " 'واستكرم المهاد والثياب.',\n",
              " 'وتضمخ بالعبير والملاب.',\n",
              " 'فاعتبروا كيف صار جيفة لا تطاق.',\n",
              " 'وكريهة لا تستطيع أن تلحظها الأحداق.',\n",
              " 'فإن كنتم قد ضمنتم الخلود.',\n",
              " 'وأنتم اللحود.',\n",
              " 'فتمتعوا بشهواتكم ملياً.',\n",
              " 'واتركوا ما رأيتم نسياً منسياً.',\n",
              " 'واتركوا ما رأيتم نسيًا منسيًّا.',\n",
              " 'وإلا فالبدار البدار.',\n",
              " 'إلى طرح العالم الغرار.',\n",
              " 'فإن السعيد من نظر إلى دينه دون دنياه.',\n",
              " 'وأخذ الأهبة لأخراه قبل أولاه والشقي من نظر قريباً.',\n",
              " 'فبات خصيباً.',\n",
              " 'وعاش رحيباً.',\n",
              " 'وغفل عن يوم يجعل الولدان شيباً.',\n",
              " 'ثم فاضت عيناه بالدموع.',\n",
              " 'وأطرق برأسه من الخشوع.',\n",
              " 'وأنشد: \\n واهاً لمن خاف الإله واتقى \\n وعاف مشترى الضلال بالهدى \\n وظل ينهى نفسه عن الهوى \\n إن إلى الرب الكريم المنتهى \\n وليس للإنسان إلا ما سعى \\n نعم!',\n",
              " 'وإن سعيه سوف يرى \\n ما هذه الدنيا سوى طيف كرى \\n فانتبهوا يا غافلين للسرى!',\n",
              " 'وشمروا الذيل وبادروا الوحى \\n من قبل أن يدعوكم داعي الردى \\n واطرحوا كل نعيم وغنى \\n واستهدفوا لوقع أسهم البلى \\n وأقرضوا الله فنعم من وفى \\n ما أجهل الناس وأذهل النهى \\n لو أن هذا المال في هذا الورى \\n قال: ألست ربكم؟ قالوا: بلى \\n ولما فرغ من أبياته زفر زفرة الضرام.',\n",
              " 'وقال: \"كل من عليها فإن.',\n",
              " 'ويبقى وجه ربك ذو الجلال والإكرام\".',\n",
              " 'ونزل وهو يمسح عبراته بفضلة اللثام.',\n",
              " 'فخيل للقوم أنه قد هبط من السماء.',\n",
              " 'وقالوا هذا ممن يمشي على الماء.',\n",
              " 'ثم أقبلوا يهرعون إليه.',\n",
              " 'وطفقوا يقبلون يديه.',\n",
              " 'ويتبركون بمس برديه.',\n",
              " 'وأتحفه كل منهم بما شاء.',\n",
              " 'وقالوا له: الدعاء الدعاء!',\n",
              " 'فلما أحرز المال هب إلى الفرس.',\n",
              " 'بأسرع من رجع النفس.',\n",
              " 'وقام القوم فودعوه.',\n",
              " 'ثم  تطرقوا فشيعوه.',\n",
              " 'فلما أبعد عن الربوة.',\n",
              " 'قيد غلوة.',\n",
              " 'إذا امرأة كأنها من حور الجنان.',\n",
              " 'تنتظره على المكان.',\n",
              " 'فتأفف وقال: يا لكاع!',\n",
              " 'لولا حاجة الرفاق.',\n",
              " 'لأشهدت عليك بالطلاق.',\n",
              " 'فقالوا: ما هذه الجارية.',\n",
              " 'يا مبارك الناصية؟ قال: هي امرأة لي صحبتها في هذه الرحلة.',\n",
              " 'لتخفف عني بعض الثقلة.',\n",
              " 'فأنضاها الكلال حتى لا تستطيع أن تمشي فنذهب.',\n",
              " 'ولا أستطيع أن أترجل لتركب.',\n",
              " 'فتقدم إليها فتى ببرذونة قد امتطاها.',\n",
              " 'وقال: اركبي باسم الله مجراها.',\n",
              " 'فقال الشيخ: جزاك الله خير الجزاء وجزاء الخير.',\n",
              " 'ثم أقسم على القوم فعادوا وكأن على رؤوسهم الطير.',\n",
              " 'قال سهيل: وكنت قد عرفت حين أماط اللثام.',\n",
              " 'أنه ميمون بن خزام.',\n",
              " 'فقلت: إن الشيخ قد أتى الله بقلب سليم: والله يهدي من يشاء إلى صراط مستقيم.',\n",
              " 'بيد أني طويت عنه كشحي.',\n",
              " 'لأعلم هل أصاب قدحي.',\n",
              " 'فتراجعت مع الراجعين.',\n",
              " 'وتوليت عنه حتى حين.',\n",
              " 'فمكثت هنيهة أترقبه.',\n",
              " 'ثم انبعثت أتعقبه.',\n",
              " 'حتى انتهى إلى دسكرةٍ في الطريق.',\n",
              " 'بجانب العقيق.',\n",
              " 'فنزل عن الحجر.',\n",
              " 'واعتزل إلى حجرة.',\n",
              " 'وافترش أريكته في ظل حجرة.',\n",
              " 'فاعتسفت إليه من بعض الجوانب.',\n",
              " 'وكمنت له كالضاغب.',\n",
              " 'وإذا به قد احتجر دستجة من الراح.',\n",
              " 'كزجاجة فيها مصباح.',\n",
              " 'وأخذ يتعاطى الأقداح.',\n",
              " 'ويغازل تلك الخود الرداح.',\n",
              " 'فلما لعبت بعطفيه الشمول.',\n",
              " 'مال على أحد جانبيه وأنشأ يقول: \\n سقى الغمام ترب ذاك القبر \\n فقد سقاني من لذيذ الخمر \\n ما لم أذق نظيره في العمر \\n أفادني في اليوم قبل العصر \\n ما لست أستفيده في الشهر \\n وإن أكن ركبت إثم السكر \\n فقد أفدت القوم عند الذكر \\n مواعظاً تلين صلد الصخر \\n فنلت من ذاك عظيم الأجر \\n وصرت أرجو أن يقوم عذري \\n عند الإله في مقام الحشر \\n بأنني كفرت قبل الوزر \\n قال: فلما فرغ من إنشاده المريب.',\n",
              " 'طلعت عليه طلعت الذيب.',\n",
              " 'وقلت: السلام على الخطيب.',\n",
              " 'فأجفل إجفال الحمل.',\n",
              " 'وقال: سبق السيف العذل.',\n",
              " 'إذا كنت طفيلياً.',\n",
              " 'فلا تكن فضولياً.',\n",
              " 'قلت: فمن التي تشرب الكأس من يديها؟ أحليلة بنيت بها أم خليلة أنست إليها؟ قال: إن بينهما نقطة فلا تحاسب عليها.',\n",
              " 'والآن قد غلبتني سورة المدام.',\n",
              " 'وتلعثم لساني عن الكلام.',\n",
              " 'فاذهب الليلة بالسلام.',\n",
              " 'وإذا التقينا غداً برزت لك المكنون.',\n",
              " 'ودرأت عنك الظنون.',\n",
              " 'قال: فعلمت أنها  من خزعبلاته.',\n",
              " 'لكنني أجريته على علاته.',\n",
              " 'فثنيت عنه عناني.',\n",
              " 'وانثنيت لشاني.']"
            ]
          },
          "metadata": {},
          "execution_count": 8
        }
      ]
    },
    {
      "cell_type": "code",
      "execution_count": 9,
      "metadata": {
        "colab": {
          "base_uri": "https://localhost:8080/"
        },
        "id": "3400363c",
        "outputId": "5620dfb3-b2b0-4b71-be38-9a06f214ccc0"
      },
      "outputs": [
        {
          "output_type": "execute_result",
          "data": {
            "text/plain": [
              "['واشتد واعتد.',\n",
              " 'وركب الأهوال.',\n",
              " 'واحتشد الأموال.',\n",
              " 'فانظروا أين ما جمع.',\n",
              " 'وهل أتى بشيء منه إلى هذا المضجع.',\n",
              " 'وطالما شمخ.',\n",
              " 'وبذخ.',\n",
              " 'وأسرف.',\n",
              " 'واستطرف.',\n",
              " 'وتأنق في الطعام والشراب.']"
            ]
          },
          "metadata": {},
          "execution_count": 9
        }
      ],
      "source": [
        "text_sentences[20:30]"
      ],
      "id": "3400363c"
    },
    {
      "cell_type": "code",
      "source": [
        "text_after_pre=\" \".join(text_sentences)"
      ],
      "metadata": {
        "id": "IN5Ad5gd8A25"
      },
      "id": "IN5Ad5gd8A25",
      "execution_count": 10,
      "outputs": []
    },
    {
      "cell_type": "code",
      "execution_count": 11,
      "metadata": {
        "id": "bd0c83fd"
      },
      "outputs": [],
      "source": [
        "def clean_the_sentence(sentences_list):\n",
        "    new_sentences=[]\n",
        "    for i in sentences_list:\n",
        "        value=  re.sub(r'[^ء-ي ]',' ',i) # هنشيل الحشو هناخد الجمله بس من غير اي زياده \n",
        "        new_sentences.append(value)\n",
        "    return new_sentences\n",
        "    "
      ],
      "id": "bd0c83fd"
    },
    {
      "cell_type": "code",
      "execution_count": 12,
      "metadata": {
        "id": "d0e4a5bb"
      },
      "outputs": [],
      "source": [
        "cleaning_sentences=clean_the_sentence(text_sentences)\n"
      ],
      "id": "d0e4a5bb"
    },
    {
      "cell_type": "code",
      "execution_count": 13,
      "metadata": {
        "colab": {
          "base_uri": "https://localhost:8080/"
        },
        "id": "fc91be64",
        "outputId": "9b4760c7-9510-4c24-a82f-78450054eafc"
      },
      "outputs": [
        {
          "output_type": "stream",
          "name": "stdout",
          "text": [
            "cleaning sentence after appling  Regular Expression :       المقامة الثالثة وتعريف بالعقيقة             كتاب مجمع البحرين لليازجي    حكى سهيل بن عباد قال  بكرت يوما  بكور الزاجر \n",
            "sentence before appling  Regular Expression : ﴿ (3) المقامة الثالثة وتعريف بالعقيقة  ﴾ \n",
            "۞۞۞۞۞۞۞\n",
            "كتاب مجمع البحرين لليازجي\n",
            " \n",
            " حكى سهيل بن عباد قال: بكرت يوماً بكور الزاجر.\n"
          ]
        }
      ],
      "source": [
        "\n",
        "print(\"cleaning sentence after appling  Regular Expression :\",cleaning_sentences[0])\n",
        "print(\"sentence before appling  Regular Expression :\" , text_sentences[0])\n"
      ],
      "id": "fc91be64"
    },
    {
      "cell_type": "code",
      "execution_count": 14,
      "metadata": {
        "id": "cb6320c7"
      },
      "outputs": [],
      "source": [
        "def get_word_tokenize(sentences):\n",
        "    list1=[]\n",
        "    for i in sentences:\n",
        "        list1.append(word_tokenize(i))\n",
        "    return list1"
      ],
      "id": "cb6320c7"
    },
    {
      "cell_type": "code",
      "execution_count": 15,
      "metadata": {
        "colab": {
          "base_uri": "https://localhost:8080/"
        },
        "id": "ab42af5d",
        "outputId": "68705be6-ffeb-41db-b370-e7f27666c0b7"
      },
      "outputs": [
        {
          "output_type": "execute_result",
          "data": {
            "text/plain": [
              "[['وقد', 'سال', 'عليها', 'مخاط', 'الشيطان'],\n",
              " ['رأيت', 'كتيبة', 'من', 'الرجال'],\n",
              " ['على', 'كثيب', 'من', 'الرمال'],\n",
              " ['فبذلت', 'في', 'شاكلة', 'الجواد', 'المهماز']]"
            ]
          },
          "metadata": {},
          "execution_count": 15
        }
      ],
      "source": [
        "\n",
        "sentences_words=get_word_tokenize(cleaning_sentences)\n",
        "sentences_words[6:10]"
      ],
      "id": "ab42af5d"
    },
    {
      "cell_type": "markdown",
      "metadata": {
        "id": "4ce56ab5"
      },
      "source": [
        "##  stemming and lemmatization"
      ],
      "id": "4ce56ab5"
    },
    {
      "cell_type": "code",
      "execution_count": 16,
      "metadata": {
        "id": "ac36707a"
      },
      "outputs": [],
      "source": [
        "def steming (lemmatize):\n",
        "    li=[]\n",
        "    bag_li=[]\n",
        "    for i  in sentences_words:\n",
        "        for x in i:\n",
        "            st = ISRIStemmer()\n",
        "            li.append(st.stem(x))\n",
        "        bag_li.append(li)\n",
        "        li=[]\n",
        "    return bag_li\n",
        "            "
      ],
      "id": "ac36707a"
    },
    {
      "cell_type": "code",
      "execution_count": 17,
      "metadata": {
        "id": "a0bbea9c"
      },
      "outputs": [],
      "source": [
        "def lemmatizing (text_sentences):\n",
        "    li=[]\n",
        "    bag_li=[]\n",
        "    for i  in text_sentences:\n",
        "        for x in word_tokenize(i) :\n",
        "            lemmer = lemmatizer.Lemmatizer()\n",
        "            li.append(lemmer.lemmatize(x))\n",
        "        bag_li.append(\" \".join(li))\n",
        "        li=[]\n",
        "    return bag_li"
      ],
      "id": "a0bbea9c"
    },
    {
      "cell_type": "code",
      "execution_count": 18,
      "metadata": {
        "colab": {
          "base_uri": "https://localhost:8080/"
        },
        "id": "235685a3",
        "outputId": "f69fc1e5-56c0-4f23-bcae-932c494a3eed"
      },
      "outputs": [
        {
          "output_type": "stream",
          "name": "stdout",
          "text": [
            "before appling steming:  ['وقد', 'سال', 'عليها', 'مخاط', 'الشيطان']\n",
            "after appling the sentence:  ['وقد', 'سال', 'عليها', 'خاط', 'شيط']\n"
          ]
        }
      ],
      "source": [
        "steming_list= steming(sentences_words) \n",
        "\n",
        "print(\"before appling steming: \" , sentences_words[6])\n",
        "print(\"after appling the sentence: \", steming_list[6])\n"
      ],
      "id": "235685a3"
    },
    {
      "cell_type": "code",
      "execution_count": 19,
      "metadata": {
        "id": "782ae195",
        "colab": {
          "base_uri": "https://localhost:8080/"
        },
        "outputId": "4f6a52f7-3125-42df-8816-025fb821e449"
      },
      "outputs": [
        {
          "output_type": "stream",
          "name": "stdout",
          "text": [
            "before appling lemmatizing:  ['حتى أدركت القوم.', 'في منتصف اليوم.']\n",
            "after appling the lemmatizing:  ['﴿ ( 3 ) مقام ثالث تعريف عقيق ﴾ ۞۞۞۞۞۞۞ كتاب مجمع بحر يازجي حكى سهيل بن عباد قال : بكر يوم كور زاجر .', 'في معمعان ناجر .', 'خوف من اصطكاك هواجر .']\n"
          ]
        }
      ],
      "source": [
        "lemmatizing_list= lemmatizing(text_sentences[:3]) \n",
        "\n",
        "print(\"before appling lemmatizing: \" , text_sentences[11:13])\n",
        "print(\"after appling the lemmatizing: \", lemmatizing_list[:])"
      ],
      "id": "782ae195"
    },
    {
      "cell_type": "code",
      "execution_count": 20,
      "metadata": {
        "id": "3cf66fc7"
      },
      "outputs": [],
      "source": [
        "# our variables \n",
        "# text_sentences >>> sent_tokenize\n",
        "#cleaning_sentences >>> cleaning  sentence of  sent_tokenize \n",
        "# sentences_words >>> word_tokenize for cleaning_sentences  \n",
        "#sentences_words >>> list of list after appliny word_tokenize on every sentence \n",
        "# steming_list >>> apply steming on sentences_words \n",
        "# \n",
        "#"
      ],
      "id": "3cf66fc7"
    },
    {
      "cell_type": "code",
      "execution_count": 21,
      "metadata": {
        "id": "a0b132f1"
      },
      "outputs": [],
      "source": [
        "\n",
        "model_name = 'microsoft/Multilingual-MiniLM-L12-H384'\n",
        "import  arabert   \n",
        "\n"
      ],
      "id": "a0b132f1"
    },
    {
      "cell_type": "markdown",
      "metadata": {
        "id": "P87fGvzxdwtd"
      },
      "source": [
        "**how work **"
      ],
      "id": "P87fGvzxdwtd"
    },
    {
      "cell_type": "code",
      "execution_count": 22,
      "metadata": {
        "colab": {
          "base_uri": "https://localhost:8080/",
          "height": 125
        },
        "id": "tlWLb43xbNbc",
        "outputId": "357c945f-4067-4d47-f2ad-dc108ad432fb"
      },
      "outputs": [
        {
          "output_type": "stream",
          "name": "stderr",
          "text": [
            "/usr/local/lib/python3.10/dist-packages/urllib3/connectionpool.py:1045: InsecureRequestWarning: Unverified HTTPS request is being made to host 'farasa-api.qcri.org'. Adding certificate verification is strongly advised. See: https://urllib3.readthedocs.io/en/1.26.x/advanced-usage.html#ssl-warnings\n",
            "  warnings.warn(\n"
          ]
        },
        {
          "output_type": "stream",
          "name": "stdout",
          "text": [
            "100%|██████████| 241M/241M [00:38<00:00, 6.26MiB/s]\n"
          ]
        },
        {
          "output_type": "stream",
          "name": "stderr",
          "text": [
            "[2023-05-04 17:28:36,379 - farasapy_logger - WARNING]: Be careful with large lines as they may break on interactive mode. You may switch to Standalone mode for such cases.\n"
          ]
        },
        {
          "output_type": "execute_result",
          "data": {
            "text/plain": [
              "'و+ لن نبالغ إذا قل +نا إن هاتف أو كمبيوتر ال+ مكتب في زمن +نا هذا ضروري'"
            ],
            "application/vnd.google.colaboratory.intrinsic+json": {
              "type": "string"
            }
          },
          "metadata": {},
          "execution_count": 22
        }
      ],
      "source": [
        "from arabert.preprocess import ArabertPreprocessor\n",
        "\n",
        "model_name = \"bert-base-arabertv2\"\n",
        "arabert_prep = ArabertPreprocessor(model_name=model_name, keep_emojis=False)\n",
        "\n",
        "text = \"ولن نبالغ إذا قلنا إن هاتف أو كمبيوتر المكتب في زمننا هذا ضروري\"\n",
        "arabert_prep.preprocess(text)\n"
      ],
      "id": "tlWLb43xbNbc"
    },
    {
      "cell_type": "code",
      "execution_count": 23,
      "metadata": {
        "id": "bcb492b1"
      },
      "outputs": [],
      "source": [
        "#from transformers.convert_slow_tokenizer import SentencePieceExtractor\n",
        "\n",
        "def detect (sent , tools):\n",
        "  lemmer = lemmatizer.Lemmatizer()\n",
        "  tagger = naftawayh.wordtag.WordTagger()\n",
        "  \n",
        "  \n",
        "  sent=re.sub(r'[^ء-ي ]',' ',sent)\n",
        "  words=word_tokenize(sent)\n",
        "  \n",
        "  out_list=[\"كليله\", \"كذالك\", \"كليلة\"]\n",
        "  out={}\n",
        "  out[\"الجمله\"]=sent\n",
        "\n",
        "  # case one كأن\n",
        "  for i in range(len(words)) :\n",
        "    \n",
        "    \n",
        "    if words[i] in tools['كأن']:\n",
        "     \n",
        "      out[\"الجمله\"]=sent\n",
        "      out['اداه التشبيه']=words[i]\n",
        "      # كأن \n",
        "      if words[i] ==\"كأن\":\n",
        "        counter=0\n",
        "        for x in range(i,len(words)):\n",
        "          if tagger.is_noun(words[x])  and not (tagger.is_stopword(words[x])) :\n",
        "            counter+=1\n",
        "            if counter==1:\n",
        "              out[\"المشبه\"]= words [x]\n",
        "            if counter ==2:\n",
        "              out[\"المشبه به\"]=(words[x])\n",
        "              break\n",
        "\n",
        "        \n",
        "\n",
        "      # كأن + الضمائر\n",
        "      else:\n",
        "        out[\"المشبه\"]= \"الضمير ف كأن\"\n",
        "\n",
        "        for x in range(i,len(words)):\n",
        "          if tagger.is_noun(words[x])  and not (tagger.is_stopword(words[x])) :\n",
        "            out[\"المشبه به\"]=(words[x])\n",
        "            break\n",
        "     \n",
        "      return out \n",
        "     \n",
        "\n",
        "        \n",
        "\n",
        "\n",
        "## case 2 مثل و يشبه و تشبه :\n",
        "  for i in range(len(words)) :\n",
        " \n",
        "    if words[i] in tools['case2']:\n",
        "      \n",
        "      out[\"الجمله\"]=sent\n",
        "      out['اداه التشبيه']=words[i]\n",
        "      \n",
        "      # يشبه تشبه مثل  \n",
        "      if words[i] in [\"تشبه\" ,\"مثل\",\"يشبه\"]:\n",
        "        for x in range(i-1,-1,-1):\n",
        "          if tagger.is_noun(words[x]):\n",
        "            out[\"المشبه\"]= words[x]\n",
        "            break\n",
        "        for j in range(i+1,len(words)):\n",
        "          if tagger.is_noun(words[j])  :\n",
        "              out[\"المشبه به\"]= (words[j])\n",
        "              break\n",
        "        return out  \n",
        "      \n",
        "      else:\n",
        "        for x in range(i-1,-1,-1):\n",
        "          if tagger.is_noun(words[x])  :\n",
        "              out[\"المشبه\"]= words[x]\n",
        "              break\n",
        "       \n",
        "        out[\"المشبه به\"]= \"الضمير في اداه التشبيه\"\n",
        "     \n",
        "      return out \n",
        "      \n",
        "\n",
        "  ##case three حرف الكاف\n",
        "  for i in range (len(words))  :\n",
        "   if words[i][0]=='ك' and words[i] not in out_list and arabert_prep.preprocess(words[i])!=words[i] and arabert_prep.preprocess(words[i])[:2]=='ك+'  and lemmer.lemmatize(words[i])[0]!='ك':\n",
        "      tagger = naftawayh.wordtag.WordTagger();     \n",
        "      for x in range(i-1,-1,-1):\n",
        "\n",
        "        if tagger.is_noun(words[x])  :\n",
        "\n",
        "          out[\"المشبه\"]= words[x]\n",
        "      for j in range(i,len(words)):\n",
        "        if tagger.is_noun(words[j])  :\n",
        "            out[\"المشبه به\"]= (words[j])[1:]\n",
        "            break\n",
        "      out[\"الجمله\"]=sent\n",
        "      out [\"اداه التشبيه\"]=\"حرف الكاف\"\n",
        "      return out \n",
        "  out['اداه التشبيه']=\"لا يوجد\"\n",
        "  return out"
      ],
      "id": "bcb492b1"
    },
    {
      "cell_type": "code",
      "execution_count": 24,
      "metadata": {
        "id": "fhiQSC6RCYU0"
      },
      "outputs": [],
      "source": [
        "\n",
        "tools1=\"كانك  كأنكما  كأنكم  كأنها  كأنه  كأنهما  كأنهم  كأنهن  كأني  كأن\"\n",
        "tools2=\" يشبهك يشبهكما يشبهكم يشبهكن  يشبهه يشبهها يشبههما يشبههم  يشبه تشبه مثل  يشبههن تشبههن يشبهني مثلك  مثلكما  مثل مثلكم  مثلكن  مثلها مثلهما  مثلهم  مثلهن مثلي تشبهك تشبهكما تشبهكم تشبهكن  تشبهه تشبهها تشبههما تشبههم تشبههن\"\n",
        "tools3=\"يشبهك يشبهكما يشبهكم يشبهكن  يشبهه يشبهها يشبههما يشبههم يشبههن تشبههن يشبهني\"\n",
        "tools4=\"تشبهك تشبهكما تشبهكم تشبهكن  تشبهه تشبهها تشبههما تشبههم تشبههن\"\n",
        "\n",
        "tools1=word_tokenize(tools1)\n",
        "tools2=word_tokenize(tools2)\n",
        "tools3=word_tokenize(tools3)\n",
        "tools4=word_tokenize(tools4)\n",
        "tools4\n",
        "all_tools={}\n",
        "all_tools['كأن']=tools1\n",
        "all_tools['case2']=tools2\n",
        "all_tools['يشبه']=tools3\n",
        "all_tools['تشبه']=tools4\n",
        "\n",
        "\n"
      ],
      "id": "fhiQSC6RCYU0"
    },
    {
      "cell_type": "code",
      "execution_count": 25,
      "metadata": {
        "id": "CeI0hYQlE9RF",
        "colab": {
          "base_uri": "https://localhost:8080/"
        },
        "outputId": "b876f7bb-ae78-49ab-cf3c-d2fc7f3bfe35"
      },
      "outputs": [
        {
          "output_type": "execute_result",
          "data": {
            "text/plain": [
              "{'الجمله': ' الابن مثلهم  في العطف ',\n",
              " 'اداه التشبيه': 'مثلهم',\n",
              " 'المشبه': 'الابن',\n",
              " 'المشبه به': 'الضمير في اداه التشبيه'}"
            ]
          },
          "metadata": {},
          "execution_count": 25
        }
      ],
      "source": [
        "\n",
        "detect(sent=\" الابن مثلهم  في العطف \",tools=all_tools)"
      ],
      "id": "CeI0hYQlE9RF"
    },
    {
      "cell_type": "code",
      "execution_count": 26,
      "metadata": {
        "id": "QlzrBWJzf56t",
        "colab": {
          "base_uri": "https://localhost:8080/"
        },
        "outputId": "2556fff7-3cf0-4add-e93e-131a25dbd900"
      },
      "outputs": [
        {
          "output_type": "execute_result",
          "data": {
            "text/plain": [
              "{'الجمله': 'احمد كتابه جميل', 'اداه التشبيه': 'لا يوجد'}"
            ]
          },
          "metadata": {},
          "execution_count": 26
        }
      ],
      "source": [
        "\n",
        "detect(\"احمد كتابه جميل\",tools=all_tools)"
      ],
      "id": "QlzrBWJzf56t"
    },
    {
      "cell_type": "code",
      "execution_count": 27,
      "metadata": {
        "id": "8Fe6w6Q5gEHB",
        "colab": {
          "base_uri": "https://localhost:8080/"
        },
        "outputId": "5370e04b-0f46-4787-b7cf-fdbf7b647a02"
      },
      "outputs": [
        {
          "output_type": "execute_result",
          "data": {
            "text/plain": [
              "{'الجمله': 'احمد كالأسد جميل',\n",
              " 'المشبه': 'احمد',\n",
              " 'المشبه به': 'الأسد',\n",
              " 'اداه التشبيه': 'حرف الكاف'}"
            ]
          },
          "metadata": {},
          "execution_count": 27
        }
      ],
      "source": [
        "detect(\"احمد كالأسد جميل\",tools=all_tools)"
      ],
      "id": "8Fe6w6Q5gEHB"
    },
    {
      "cell_type": "code",
      "execution_count": 28,
      "metadata": {
        "id": "PWVPdSbugjAs",
        "colab": {
          "base_uri": "https://localhost:8080/"
        },
        "outputId": "d6416bf1-1d6a-4a25-8c28-1ede74101ef6"
      },
      "outputs": [
        {
          "output_type": "execute_result",
          "data": {
            "text/plain": [
              "{'الجمله': 'كليله  ', 'اداه التشبيه': 'لا يوجد'}"
            ]
          },
          "metadata": {},
          "execution_count": 28
        }
      ],
      "source": [
        "detect(sent=\"كليله  \",tools=all_tools)"
      ],
      "id": "PWVPdSbugjAs"
    },
    {
      "cell_type": "markdown",
      "metadata": {
        "id": "Lr4K6F4rfxug"
      },
      "source": [
        "# **التشبيه test**"
      ],
      "id": "Lr4K6F4rfxug"
    },
    {
      "cell_type": "code",
      "execution_count": 29,
      "metadata": {
        "id": "PKef8RjueoTC"
      },
      "outputs": [],
      "source": [
        "list_for_detecting=[]\n",
        "for i in cleaning_sentences:\n",
        "  list_for_detecting.append(detect(sent=i,tools=all_tools))\n",
        "  \n",
        "  "
      ],
      "id": "PKef8RjueoTC"
    },
    {
      "cell_type": "code",
      "execution_count": 30,
      "metadata": {
        "id": "LPOMAqcRfaqt",
        "colab": {
          "base_uri": "https://localhost:8080/"
        },
        "outputId": "fc5f904e-95fc-43c6-9505-7be82f127c2b"
      },
      "outputs": [
        {
          "output_type": "stream",
          "name": "stdout",
          "text": [
            "{'الجمله': 'إذا امرأة كأنها من حور الجنان ', 'اداه التشبيه': 'كأنها', 'المشبه': 'الضمير ف كأن', 'المشبه به': 'حور'}\n",
            "_____________________________________________________________________________________________________________________\n",
            "______________________________________________________________________________________________________________________\n",
            "{'الجمله': 'كزجاجة فيها مصباح ', 'المشبه به': 'زجاجة', 'اداه التشبيه': 'حرف الكاف'}\n",
            "_____________________________________________________________________________________________________________________\n",
            "______________________________________________________________________________________________________________________\n"
          ]
        }
      ],
      "source": [
        "for i in list_for_detecting:\n",
        "\n",
        "\n",
        "  if i['اداه التشبيه']!=\"لا يوجد\" :\n",
        "    print(i)\n",
        "    print(\"_____________________________________________________________________________________________________________________\")\n",
        "    print(\"______________________________________________________________________________________________________________________\")\n",
        "  "
      ],
      "id": "LPOMAqcRfaqt"
    },
    {
      "cell_type": "markdown",
      "metadata": {
        "id": "1I3jlvHsUqqk"
      },
      "source": [
        "# **التكرار**"
      ],
      "id": "1I3jlvHsUqqk"
    },
    {
      "cell_type": "code",
      "execution_count": 31,
      "metadata": {
        "id": "3nRDmW2GUp3T"
      },
      "outputs": [],
      "source": [
        "def rep(sents, search_range=4):\n",
        "  sentences=[]\n",
        "  dic={}\n",
        "  lemm_sents=lemmatizing(sents)\n",
        "  for i in range (len(lemm_sents)-1):\n",
        "    dic={}\n",
        "    dic['الجمله']=sents[i]\n",
        "    dic['الكلمات المكرره']=rep_words(sents[i])\n",
        "    if lemm_sents[i:i+search_range].count(lemm_sents[i])>1:\n",
        "      dic['هل الجمله مكرره'] =\"نعم\" \n",
        "    else:\n",
        "      dic['هل الجمله مكرره'] =\"لا\"  \n",
        "    sentences.append(dic)\n",
        "  return sentences"
      ],
      "id": "3nRDmW2GUp3T"
    },
    {
      "cell_type": "code",
      "execution_count": 32,
      "metadata": {
        "id": "ri32OSX-UvrW"
      },
      "outputs": [],
      "source": [
        "def rep_words(sent):\n",
        "  li=[]\n",
        "  words=word_tokenize(sent)\n",
        "  for i in range(len(words)-1):\n",
        "    if words.count(words[i])>1 and  words[i] not in li:\n",
        "      li.append(words[i])\n",
        "  return li "
      ],
      "id": "ri32OSX-UvrW"
    },
    {
      "cell_type": "markdown",
      "metadata": {
        "id": "FJhcYF80UyVv"
      },
      "source": [
        "# **التكرار test**"
      ],
      "id": "FJhcYF80UyVv"
    },
    {
      "cell_type": "code",
      "execution_count": 33,
      "metadata": {
        "id": "GcA1RxLMHeQm"
      },
      "outputs": [],
      "source": [
        "duplicated_sentences=[]\n",
        "sents=sent_tokenize(text)\n",
        "for i in rep(sents):\n",
        "  if i['هل الجمله مكرره']=='نعم':\n",
        "    print(i)\n",
        "    duplicated_sentences.append(i)\n",
        "    print(\"______________________________\")"
      ],
      "id": "GcA1RxLMHeQm"
    },
    {
      "cell_type": "code",
      "source": [
        "def get_duplicated_sentences(text, search_range=4):\n",
        "  duplicated_sentences=[]\n",
        "  sents=sent_tokenize(text)\n",
        "  lemmat_list=lemmatizing(sents)\n",
        "  for i in rep(sents,search_range):\n",
        "    if i['هل الجمله مكرره']=='نعم':\n",
        "      duplicated_sentences.append(i)\n",
        "  return duplicated_sentences \n",
        "\n",
        "    \n"
      ],
      "metadata": {
        "id": "zaciUq8rTWVr"
      },
      "id": "zaciUq8rTWVr",
      "execution_count": 34,
      "outputs": []
    },
    {
      "cell_type": "markdown",
      "metadata": {
        "id": "NxHKK6kLRPkE"
      },
      "source": [
        "# **الجناس**"
      ],
      "id": "NxHKK6kLRPkE"
    },
    {
      "cell_type": "code",
      "execution_count": 35,
      "metadata": {
        "id": "8IuqrXvzROoO"
      },
      "outputs": [],
      "source": [
        "def detect_Alliteration(word1,word2,r=80):\n",
        "  ratio=fuzz.ratio(word1,word2)\n",
        "  if ratio > r and word1 != word2:\n",
        "    return True \n",
        "  else :\n",
        "    return False"
      ],
      "id": "8IuqrXvzROoO"
    },
    {
      "cell_type": "code",
      "execution_count": 36,
      "metadata": {
        "id": "D5CvJt26ReLo"
      },
      "outputs": [],
      "source": [
        "def get_anaphora(sent,r=80):\n",
        "  count=0\n",
        "  words=word_tokenize(sent)\n",
        "  for i in range(len(words)):\n",
        "    for x in range(i+1,len(words)):\n",
        "      if (detect_Alliteration(words[i],words[x],r)):\n",
        "        print(words[i],\"      \",words[x])\n"
      ],
      "id": "D5CvJt26ReLo"
    },
    {
      "cell_type": "code",
      "source": [
        "def detect_anaphora(sent,r=80):\n",
        "  count=0\n",
        "  words=word_tokenize(sent)\n",
        "  for i in range(len(words)):\n",
        "    for x in range(i+1,len(words)):\n",
        "      if (detect_Alliteration(words[i],words[x],r)):\n",
        "        count=1\n",
        "        return True\n",
        "  return False "
      ],
      "metadata": {
        "id": "tGh226nSvkoL"
      },
      "id": "tGh226nSvkoL",
      "execution_count": 37,
      "outputs": []
    },
    {
      "cell_type": "code",
      "execution_count": 38,
      "metadata": {
        "id": "Ko1Un5T3RiBm",
        "colab": {
          "base_uri": "https://localhost:8080/"
        },
        "outputId": "cb8ebf9d-0f9f-482f-b4de-29a39fe182e3"
      },
      "outputs": [
        {
          "output_type": "stream",
          "name": "stdout",
          "text": [
            "﴿ (3) المقامة الثالثة وتعريف بالعقيقة  ﴾ \n",
            "۞۞۞۞۞۞۞\n",
            "كتاب مجمع البحرين لليازجي\n",
            " \n",
            " حكى سهيل بن عباد قال: بكرت يوماً بكور الزاجر.\n",
            "بكرت        بكور\n",
            "_______________________\n",
            "في معمعان ناجر.\n",
            "_______________________\n",
            "خوفاً من اصطكاك الهواجر.\n",
            "_______________________\n",
            "فأمعنت في السياحة.\n",
            "_______________________\n",
            "وجعلت أقطع ساحة بعد ساحة.\n",
            "_______________________\n",
            "حتى إذا تخللت بعض الغيطان.\n",
            "_______________________\n",
            "وقد سال عليها مخاط الشيطان.\n",
            "_______________________\n",
            "رأيت كتيبة من الرجال.\n",
            "_______________________\n",
            "على كثيب من الرمال.\n",
            "_______________________\n",
            "فبذلت في شاكلة الجواد المهماز.\n",
            "_______________________\n",
            "ورددت صدور الأرض على الأعجاز.\n",
            "_______________________\n",
            "حتى أدركت القوم.\n",
            "_______________________\n",
            "في منتصف اليوم.\n",
            "_______________________\n",
            "وإذا جنازة قد أودعوها التراب.\n",
            "_______________________\n",
            "وشيخ على دكة قد افتتح الخطاب.\n",
            "_______________________\n",
            "فقال: يا كرام المعاشر والعشائر.\n",
            "المعاشر        والعشائر\n",
            "_______________________\n",
            "يا كرام المعاشر والعشائر.\n",
            "المعاشر        والعشائر\n",
            "_______________________\n",
            "وأولي الأبصار والبصائر.\n",
            "الأبصار        والبصائر\n",
            "_______________________\n",
            "أرأيتم ما أحرج هذا البيت.\n",
            "_______________________\n",
            "وأسمج هذا الميت؟ طالما جد وكد.\n",
            "_______________________\n",
            "واشتد واعتد.\n",
            "واشتد        واعتد\n",
            "_______________________\n",
            "وركب الأهوال.\n",
            "_______________________\n",
            "واحتشد الأموال.\n",
            "_______________________\n",
            "فانظروا أين ما جمع.\n",
            "_______________________\n",
            "وهل أتى بشيء منه إلى هذا المضجع.\n",
            "_______________________\n",
            "وطالما شمخ.\n",
            "_______________________\n",
            "وبذخ.\n",
            "_______________________\n",
            "وأسرف.\n",
            "_______________________\n",
            "واستطرف.\n",
            "_______________________\n",
            "وتأنق في الطعام والشراب.\n",
            "_______________________\n",
            "واستكرم المهاد والثياب.\n",
            "_______________________\n",
            "وتضمخ بالعبير والملاب.\n",
            "_______________________\n",
            "فاعتبروا كيف صار جيفة لا تطاق.\n",
            "_______________________\n",
            "وكريهة لا تستطيع أن تلحظها الأحداق.\n",
            "_______________________\n",
            "فإن كنتم قد ضمنتم الخلود.\n",
            "كنتم        ضمنتم\n",
            "_______________________\n",
            "وأنتم اللحود.\n",
            "_______________________\n",
            "فتمتعوا بشهواتكم ملياً.\n",
            "_______________________\n",
            "واتركوا ما رأيتم نسياً منسياً.\n",
            "نسياً        منسياً\n",
            "_______________________\n",
            "واتركوا ما رأيتم نسيًا منسيًّا.\n",
            "نسيًا        منسيًّا\n",
            "_______________________\n",
            "وإلا فالبدار البدار.\n",
            "فالبدار        البدار\n",
            "_______________________\n",
            "إلى طرح العالم الغرار.\n",
            "_______________________\n",
            "فإن السعيد من نظر إلى دينه دون دنياه.\n",
            "دينه        دنياه\n",
            "_______________________\n",
            "وأخذ الأهبة لأخراه قبل أولاه والشقي من نظر قريباً.\n",
            "_______________________\n",
            "فبات خصيباً.\n",
            "_______________________\n",
            "وعاش رحيباً.\n",
            "_______________________\n",
            "وغفل عن يوم يجعل الولدان شيباً.\n",
            "_______________________\n",
            "ثم فاضت عيناه بالدموع.\n",
            "_______________________\n",
            "وأطرق برأسه من الخشوع.\n",
            "_______________________\n",
            "وأنشد: \n",
            " واهاً لمن خاف الإله واتقى \n",
            " وعاف مشترى الضلال بالهدى \n",
            " وظل ينهى نفسه عن الهوى \n",
            " إن إلى الرب الكريم المنتهى \n",
            " وليس للإنسان إلا ما سعى \n",
            " نعم!\n",
            "بالهدى        الهوى\n",
            "بالهدى        المنتهى\n",
            "الهوى        المنتهى\n",
            "إلى        إلا\n",
            "_______________________\n",
            "وإن سعيه سوف يرى \n",
            " ما هذه الدنيا سوى طيف كرى \n",
            " فانتبهوا يا غافلين للسرى!\n",
            "سوف        سوى\n",
            "يرى        كرى\n",
            "_______________________\n",
            "وشمروا الذيل وبادروا الوحى \n",
            " من قبل أن يدعوكم داعي الردى \n",
            " واطرحوا كل نعيم وغنى \n",
            " واستهدفوا لوقع أسهم البلى \n",
            " وأقرضوا الله فنعم من وفى \n",
            " ما أجهل الناس وأذهل النهى \n",
            " لو أن هذا المال في هذا الورى \n",
            " قال: ألست ربكم؟ قالوا: بلى \n",
            " ولما فرغ من أبياته زفر زفرة الضرام.\n",
            "وشمروا        وبادروا\n",
            "وشمروا        واطرحوا\n",
            "وشمروا        وأقرضوا\n",
            "الذيل        الله\n",
            "وبادروا        واطرحوا\n",
            "وبادروا        واستهدفوا\n",
            "الوحى        الورى\n",
            "قبل        قال\n",
            "قبل        بلى\n",
            "الردى        الورى\n",
            "نعيم        فنعم\n",
            "لوقع        لو\n",
            "البلى        الله\n",
            "البلى        بلى\n",
            "الله        النهى\n",
            "الله        المال\n",
            "ما        ولما\n",
            "أجهل        وأذهل\n",
            "المال        ولما\n",
            "قال        قالوا\n",
            "فرغ        زفر\n",
            "زفر        زفرة\n",
            "_______________________\n",
            "وقال: \"كل من عليها فإن.\n",
            "_______________________\n",
            "ويبقى وجه ربك ذو الجلال والإكرام\".\n",
            "_______________________\n",
            "ونزل وهو يمسح عبراته بفضلة اللثام.\n",
            "_______________________\n",
            "فخيل للقوم أنه قد هبط من السماء.\n",
            "_______________________\n",
            "وقالوا هذا ممن يمشي على الماء.\n",
            "_______________________\n",
            "ثم أقبلوا يهرعون إليه.\n",
            "_______________________\n",
            "وطفقوا يقبلون يديه.\n",
            "_______________________\n",
            "ويتبركون بمس برديه.\n",
            "_______________________\n",
            "وأتحفه كل منهم بما شاء.\n",
            "_______________________\n",
            "وقالوا له: الدعاء الدعاء!\n",
            "_______________________\n",
            "فلما أحرز المال هب إلى الفرس.\n",
            "فلما        المال\n",
            "_______________________\n",
            "بأسرع من رجع النفس.\n",
            "_______________________\n",
            "وقام القوم فودعوه.\n",
            "_______________________\n",
            "ثم  تطرقوا فشيعوه.\n",
            "_______________________\n",
            "فلما أبعد عن الربوة.\n",
            "_______________________\n",
            "قيد غلوة.\n",
            "_______________________\n",
            "إذا امرأة كأنها من حور الجنان.\n",
            "_______________________\n",
            "تنتظره على المكان.\n",
            "_______________________\n",
            "فتأفف وقال: يا لكاع!\n",
            "_______________________\n",
            "لولا حاجة الرفاق.\n",
            "_______________________\n",
            "لأشهدت عليك بالطلاق.\n",
            "_______________________\n",
            "فقالوا: ما هذه الجارية.\n",
            "_______________________\n",
            "يا مبارك الناصية؟ قال: هي امرأة لي صحبتها في هذه الرحلة.\n",
            "_______________________\n",
            "لتخفف عني بعض الثقلة.\n",
            "_______________________\n",
            "فأنضاها الكلال حتى لا تستطيع أن تمشي فنذهب.\n",
            "_______________________\n",
            "ولا أستطيع أن أترجل لتركب.\n",
            "_______________________\n",
            "فتقدم إليها فتى ببرذونة قد امتطاها.\n",
            "_______________________\n",
            "وقال: اركبي باسم الله مجراها.\n",
            "_______________________\n",
            "فقال الشيخ: جزاك الله خير الجزاء وجزاء الخير.\n",
            "جزاك        وجزاء\n",
            "خير        الخير\n",
            "الجزاء        وجزاء\n",
            "_______________________\n",
            "ثم أقسم على القوم فعادوا وكأن على رؤوسهم الطير.\n",
            "_______________________\n",
            "قال سهيل: وكنت قد عرفت حين أماط اللثام.\n",
            "_______________________\n",
            "أنه ميمون بن خزام.\n",
            "_______________________\n",
            "فقلت: إن الشيخ قد أتى الله بقلب سليم: والله يهدي من يشاء إلى صراط مستقيم.\n",
            "الله        والله\n",
            "_______________________\n",
            "بيد أني طويت عنه كشحي.\n",
            "_______________________\n",
            "لأعلم هل أصاب قدحي.\n",
            "_______________________\n",
            "فتراجعت مع الراجعين.\n",
            "_______________________\n",
            "وتوليت عنه حتى حين.\n",
            "_______________________\n",
            "فمكثت هنيهة أترقبه.\n",
            "_______________________\n",
            "ثم انبعثت أتعقبه.\n",
            "_______________________\n",
            "حتى انتهى إلى دسكرةٍ في الطريق.\n",
            "_______________________\n",
            "بجانب العقيق.\n",
            "_______________________\n",
            "فنزل عن الحجر.\n",
            "_______________________\n",
            "واعتزل إلى حجرة.\n",
            "_______________________\n",
            "وافترش أريكته في ظل حجرة.\n",
            "_______________________\n",
            "فاعتسفت إليه من بعض الجوانب.\n",
            "_______________________\n",
            "وكمنت له كالضاغب.\n",
            "_______________________\n",
            "وإذا به قد احتجر دستجة من الراح.\n",
            "_______________________\n",
            "كزجاجة فيها مصباح.\n",
            "_______________________\n",
            "وأخذ يتعاطى الأقداح.\n",
            "_______________________\n",
            "ويغازل تلك الخود الرداح.\n",
            "_______________________\n",
            "فلما لعبت بعطفيه الشمول.\n",
            "_______________________\n",
            "مال على أحد جانبيه وأنشأ يقول: \n",
            " سقى الغمام ترب ذاك القبر \n",
            " فقد سقاني من لذيذ الخمر \n",
            " ما لم أذق نظيره في العمر \n",
            " أفادني في اليوم قبل العصر \n",
            " ما لست أستفيده في الشهر \n",
            " وإن أكن ركبت إثم السكر \n",
            " فقد أفدت القوم عند الذكر \n",
            " مواعظاً تلين صلد الصخر \n",
            " فنلت من ذاك عظيم الأجر \n",
            " وصرت أرجو أن يقوم عذري \n",
            " عند الإله في مقام الحشر \n",
            " بأنني كفرت قبل الوزر \n",
            " قال: فلما فرغ من إنشاده المريب.\n",
            "مال        ما\n",
            "مال        ما\n",
            "مال        قال\n",
            "يقول        يقوم\n",
            "الخمر        العمر\n",
            "الخمر        الصخر\n",
            "الخمر        المريب\n",
            "ما        مقام\n",
            "ما        فلما\n",
            "لم        فلما\n",
            "العمر        العصر\n",
            "العمر        المريب\n",
            "اليوم        القوم\n",
            "اليوم        يقوم\n",
            "قبل        قال\n",
            "العصر        الصخر\n",
            "ما        مقام\n",
            "ما        فلما\n",
            "الشهر        الحشر\n",
            "أكن        أن\n",
            "السكر        الذكر\n",
            "القوم        يقوم\n",
            "قبل        قال\n",
            "_______________________\n",
            "طلعت عليه طلعت الذيب.\n",
            "_______________________\n",
            "وقلت: السلام على الخطيب.\n",
            "_______________________\n",
            "فأجفل إجفال الحمل.\n",
            "_______________________\n",
            "وقال: سبق السيف العذل.\n",
            "_______________________\n",
            "إذا كنت طفيلياً.\n",
            "_______________________\n",
            "فلا تكن فضولياً.\n",
            "_______________________\n",
            "قلت: فمن التي تشرب الكأس من يديها؟ أحليلة بنيت بها أم خليلة أنست إليها؟ قال: إن بينهما نقطة فلا تحاسب عليها.\n",
            "قلت        قال\n",
            "فمن        من\n",
            "يديها؟        إليها؟\n",
            "أحليلة        خليلة\n",
            "بها        بينهما\n",
            "إليها؟        عليها\n",
            "_______________________\n",
            "والآن قد غلبتني سورة المدام.\n",
            "_______________________\n",
            "وتلعثم لساني عن الكلام.\n",
            "_______________________\n",
            "فاذهب الليلة بالسلام.\n",
            "_______________________\n",
            "وإذا التقينا غداً برزت لك المكنون.\n",
            "_______________________\n",
            "ودرأت عنك الظنون.\n",
            "_______________________\n",
            "قال: فعلمت أنها  من خزعبلاته.\n",
            "_______________________\n",
            "لكنني أجريته على علاته.\n",
            "_______________________\n",
            "فثنيت عنه عناني.\n",
            "_______________________\n",
            "وانثنيت لشاني.\n",
            "_______________________\n"
          ]
        }
      ],
      "source": [
        "for i in text_sentences:\n",
        "  print(i)\n",
        "  get_anaphora(i,60)\n",
        "  print(\"_______________________\")\n"
      ],
      "id": "Ko1Un5T3RiBm"
    },
    {
      "cell_type": "code",
      "source": [
        "def get_weight(text_sentences,r=85):\n",
        "  num1=0 # التشبيه\n",
        "  num2=0 # الجناس \n",
        "  num3=0 #  التكرار كلمات\n",
        "  num4=0 # تكرار جمل\n",
        "  \n",
        "  for i in text_sentences :\n",
        "    if detect(i,all_tools)['اداه التشبيه']!=\"لا يوجد\":\n",
        "      num1=num1+1\n",
        "    if detect_anaphora(i,r):\n",
        "      num2=num2+1\n",
        "    if len(rep_words(i))>0:\n",
        "      num3=num3+1\n",
        "\n",
        "  for i in rep(text_sentences):\n",
        "    if i['هل الجمله مكرره']=='نعم':\n",
        "      num4=num4+1\n",
        "\n",
        "  sum=num1+num2+num3+num4\n",
        "  if sum ==0:\n",
        "    return 0,0,0,0\n",
        "\n",
        "  w1=num1/sum\n",
        "  w2=num2/sum\n",
        "  w3=num3/sum \n",
        "  w4=num4/sum\n",
        "\n",
        "  return w1,w2,w3,w4"
      ],
      "metadata": {
        "id": "n5qmc7IQuPX3"
      },
      "id": "n5qmc7IQuPX3",
      "execution_count": 39,
      "outputs": []
    },
    {
      "cell_type": "code",
      "source": [
        "all_sentences =sent_tokenize(text)\n",
        "w=get_weight(text_sentences,85)"
      ],
      "metadata": {
        "id": "oTWo5tXOG6VJ",
        "colab": {
          "base_uri": "https://localhost:8080/"
        },
        "outputId": "e11415ad-6a42-4364-df53-8f3837cf598d"
      },
      "id": "oTWo5tXOG6VJ",
      "execution_count": 40,
      "outputs": [
        {
          "output_type": "stream",
          "name": "stderr",
          "text": [
            "Exception ignored in: <function WordFreqDictionary.__del__ at 0x7fd04090ea70>\n",
            "Traceback (most recent call last):\n",
            "  File \"/usr/local/lib/python3.10/dist-packages/arramooz/wordfreqdictionaryclass.py\", line 130, in __del__\n",
            "    self.db_connect.close()\n",
            "sqlite3.ProgrammingError: SQLite objects created in a thread can only be used in that same thread. The object was created in thread id 140533649946432 and this is thread id 140532932142848.\n",
            "Exception ignored in: <function ArabicDictionary.__del__ at 0x7fd03e8d9bd0>\n",
            "Traceback (most recent call last):\n",
            "  File \"/usr/local/lib/python3.10/dist-packages/arramooz/arabicdictionary.py\", line 108, in __del__\n",
            "    self.db_connect.close()\n",
            "sqlite3.ProgrammingError: SQLite objects created in a thread can only be used in that same thread. The object was created in thread id 140533649946432 and this is thread id 140532932142848.\n",
            "Exception ignored in: <function ArabicDictionary.__del__ at 0x7fd03e8d9bd0>\n",
            "Traceback (most recent call last):\n",
            "  File \"/usr/local/lib/python3.10/dist-packages/arramooz/arabicdictionary.py\", line 108, in __del__\n",
            "    self.db_connect.close()\n",
            "sqlite3.ProgrammingError: SQLite objects created in a thread can only be used in that same thread. The object was created in thread id 140533649946432 and this is thread id 140532932142848.\n",
            "Exception ignored in: <function WordFreqDictionary.__del__ at 0x7fd04090ea70>\n",
            "Traceback (most recent call last):\n",
            "  File \"/usr/local/lib/python3.10/dist-packages/arramooz/wordfreqdictionaryclass.py\", line 130, in __del__\n",
            "    self.db_connect.close()\n",
            "sqlite3.ProgrammingError: SQLite objects created in a thread can only be used in that same thread. The object was created in thread id 140533649946432 and this is thread id 140532932142848.\n",
            "Exception ignored in: <function StopWordsDictionary.__del__ at 0x7fd03e93ecb0>\n",
            "Traceback (most recent call last):\n",
            "  File \"/usr/local/lib/python3.10/dist-packages/arramooz/stopwordsdictionaryclass.py\", line 98, in __del__\n",
            "    self.db_connect.close()\n",
            "sqlite3.ProgrammingError: SQLite objects created in a thread can only be used in that same thread. The object was created in thread id 140533649946432 and this is thread id 140532932142848.\n"
          ]
        }
      ]
    },
    {
      "cell_type": "code",
      "source": [
        "w"
      ],
      "metadata": {
        "id": "7Sx5RkCoNqp3",
        "colab": {
          "base_uri": "https://localhost:8080/"
        },
        "outputId": "93f4357d-54e7-4011-dff8-771c9b503df0"
      },
      "id": "7Sx5RkCoNqp3",
      "execution_count": 41,
      "outputs": [
        {
          "output_type": "execute_result",
          "data": {
            "text/plain": [
              "(0.13333333333333333,\n",
              " 0.26666666666666666,\n",
              " 0.5333333333333333,\n",
              " 0.06666666666666667)"
            ]
          },
          "metadata": {},
          "execution_count": 41
        }
      ]
    },
    {
      "cell_type": "code",
      "source": [
        "def get_score_ARFS(all_sentences , duplicated_sentences,w1=1,w2=1, w3=1 ,w4=1,auto=True,r=85 ):\n",
        "  dic={}\n",
        "  socre_of_ARFS=[]\n",
        "  \n",
        "  if auto:\n",
        "    w1,w2,w3,w4=get_weight(all_sentences,85)\n",
        "  for i in text_sentences :\n",
        "    score=0\n",
        "    if detect(i,all_tools)['اداه التشبيه']!=\"لا يوجد\":\n",
        "      score+=w1\n",
        "    if detect_anaphora(i,r):\n",
        "      score+=w2\n",
        "    if len(rep_words(i))>0:\n",
        "      score+=w3\n",
        "    if i in duplicated_sentences:\n",
        "      score+=w4\n",
        "    dic['sent']=i\n",
        "    dic['score']=score\n",
        "    socre_of_ARFS.append(dic)\n",
        "    dic={}\n",
        "  return socre_of_ARFS\n",
        "\n",
        "\n",
        "\n",
        "  \n",
        "  \n",
        "  \n",
        "\n",
        "\n",
        "\n"
      ],
      "metadata": {
        "id": "8qcaOK5MNKWs"
      },
      "id": "8qcaOK5MNKWs",
      "execution_count": 42,
      "outputs": []
    },
    {
      "cell_type": "code",
      "source": [
        "socre_of_ARFS=get_score_ARFS (text_sentences, get_duplicated_sentences(text) ,auto=True)"
      ],
      "metadata": {
        "id": "LqU2GtEkSvXM"
      },
      "id": "LqU2GtEkSvXM",
      "execution_count": 43,
      "outputs": []
    },
    {
      "cell_type": "code",
      "source": [
        "for i in socre_of_ARFS:\n",
        "  print(i)\n",
        "  print(\"_________________________\")"
      ],
      "metadata": {
        "id": "sZTECDZGVVRG",
        "colab": {
          "base_uri": "https://localhost:8080/"
        },
        "outputId": "738239d6-a5db-4759-99d4-07278770f3a9"
      },
      "id": "sZTECDZGVVRG",
      "execution_count": 44,
      "outputs": [
        {
          "output_type": "stream",
          "name": "stdout",
          "text": [
            "{'sent': '﴿ (3) المقامة الثالثة وتعريف بالعقيقة  ﴾ \\n۞۞۞۞۞۞۞\\nكتاب مجمع البحرين لليازجي\\n \\n حكى سهيل بن عباد قال: بكرت يوماً بكور الزاجر.', 'score': 0}\n",
            "_________________________\n",
            "{'sent': 'في معمعان ناجر.', 'score': 0}\n",
            "_________________________\n",
            "{'sent': 'خوفاً من اصطكاك الهواجر.', 'score': 0}\n",
            "_________________________\n",
            "{'sent': 'فأمعنت في السياحة.', 'score': 0}\n",
            "_________________________\n",
            "{'sent': 'وجعلت أقطع ساحة بعد ساحة.', 'score': 0.5333333333333333}\n",
            "_________________________\n",
            "{'sent': 'حتى إذا تخللت بعض الغيطان.', 'score': 0}\n",
            "_________________________\n",
            "{'sent': 'وقد سال عليها مخاط الشيطان.', 'score': 0}\n",
            "_________________________\n",
            "{'sent': 'رأيت كتيبة من الرجال.', 'score': 0}\n",
            "_________________________\n",
            "{'sent': 'على كثيب من الرمال.', 'score': 0}\n",
            "_________________________\n",
            "{'sent': 'فبذلت في شاكلة الجواد المهماز.', 'score': 0}\n",
            "_________________________\n",
            "{'sent': 'ورددت صدور الأرض على الأعجاز.', 'score': 0}\n",
            "_________________________\n",
            "{'sent': 'حتى أدركت القوم.', 'score': 0}\n",
            "_________________________\n",
            "{'sent': 'في منتصف اليوم.', 'score': 0}\n",
            "_________________________\n",
            "{'sent': 'وإذا جنازة قد أودعوها التراب.', 'score': 0}\n",
            "_________________________\n",
            "{'sent': 'وشيخ على دكة قد افتتح الخطاب.', 'score': 0}\n",
            "_________________________\n",
            "{'sent': 'فقال: يا كرام المعاشر والعشائر.', 'score': 0}\n",
            "_________________________\n",
            "{'sent': 'يا كرام المعاشر والعشائر.', 'score': 0}\n",
            "_________________________\n",
            "{'sent': 'وأولي الأبصار والبصائر.', 'score': 0}\n",
            "_________________________\n",
            "{'sent': 'أرأيتم ما أحرج هذا البيت.', 'score': 0}\n",
            "_________________________\n",
            "{'sent': 'وأسمج هذا الميت؟ طالما جد وكد.', 'score': 0}\n",
            "_________________________\n",
            "{'sent': 'واشتد واعتد.', 'score': 0}\n",
            "_________________________\n",
            "{'sent': 'وركب الأهوال.', 'score': 0}\n",
            "_________________________\n",
            "{'sent': 'واحتشد الأموال.', 'score': 0}\n",
            "_________________________\n",
            "{'sent': 'فانظروا أين ما جمع.', 'score': 0}\n",
            "_________________________\n",
            "{'sent': 'وهل أتى بشيء منه إلى هذا المضجع.', 'score': 0}\n",
            "_________________________\n",
            "{'sent': 'وطالما شمخ.', 'score': 0}\n",
            "_________________________\n",
            "{'sent': 'وبذخ.', 'score': 0}\n",
            "_________________________\n",
            "{'sent': 'وأسرف.', 'score': 0}\n",
            "_________________________\n",
            "{'sent': 'واستطرف.', 'score': 0}\n",
            "_________________________\n",
            "{'sent': 'وتأنق في الطعام والشراب.', 'score': 0}\n",
            "_________________________\n",
            "{'sent': 'واستكرم المهاد والثياب.', 'score': 0}\n",
            "_________________________\n",
            "{'sent': 'وتضمخ بالعبير والملاب.', 'score': 0}\n",
            "_________________________\n",
            "{'sent': 'فاعتبروا كيف صار جيفة لا تطاق.', 'score': 0}\n",
            "_________________________\n",
            "{'sent': 'وكريهة لا تستطيع أن تلحظها الأحداق.', 'score': 0}\n",
            "_________________________\n",
            "{'sent': 'فإن كنتم قد ضمنتم الخلود.', 'score': 0}\n",
            "_________________________\n",
            "{'sent': 'وأنتم اللحود.', 'score': 0}\n",
            "_________________________\n",
            "{'sent': 'فتمتعوا بشهواتكم ملياً.', 'score': 0}\n",
            "_________________________\n",
            "{'sent': 'واتركوا ما رأيتم نسياً منسياً.', 'score': 0.26666666666666666}\n",
            "_________________________\n",
            "{'sent': 'واتركوا ما رأيتم نسيًا منسيًّا.', 'score': 0}\n",
            "_________________________\n",
            "{'sent': 'وإلا فالبدار البدار.', 'score': 0.26666666666666666}\n",
            "_________________________\n",
            "{'sent': 'إلى طرح العالم الغرار.', 'score': 0}\n",
            "_________________________\n",
            "{'sent': 'فإن السعيد من نظر إلى دينه دون دنياه.', 'score': 0}\n",
            "_________________________\n",
            "{'sent': 'وأخذ الأهبة لأخراه قبل أولاه والشقي من نظر قريباً.', 'score': 0}\n",
            "_________________________\n",
            "{'sent': 'فبات خصيباً.', 'score': 0}\n",
            "_________________________\n",
            "{'sent': 'وعاش رحيباً.', 'score': 0}\n",
            "_________________________\n",
            "{'sent': 'وغفل عن يوم يجعل الولدان شيباً.', 'score': 0}\n",
            "_________________________\n",
            "{'sent': 'ثم فاضت عيناه بالدموع.', 'score': 0}\n",
            "_________________________\n",
            "{'sent': 'وأطرق برأسه من الخشوع.', 'score': 0}\n",
            "_________________________\n",
            "{'sent': 'وأنشد: \\n واهاً لمن خاف الإله واتقى \\n وعاف مشترى الضلال بالهدى \\n وظل ينهى نفسه عن الهوى \\n إن إلى الرب الكريم المنتهى \\n وليس للإنسان إلا ما سعى \\n نعم!', 'score': 0}\n",
            "_________________________\n",
            "{'sent': 'وإن سعيه سوف يرى \\n ما هذه الدنيا سوى طيف كرى \\n فانتبهوا يا غافلين للسرى!', 'score': 0}\n",
            "_________________________\n",
            "{'sent': 'وشمروا الذيل وبادروا الوحى \\n من قبل أن يدعوكم داعي الردى \\n واطرحوا كل نعيم وغنى \\n واستهدفوا لوقع أسهم البلى \\n وأقرضوا الله فنعم من وفى \\n ما أجهل الناس وأذهل النهى \\n لو أن هذا المال في هذا الورى \\n قال: ألست ربكم؟ قالوا: بلى \\n ولما فرغ من أبياته زفر زفرة الضرام.', 'score': 0.8}\n",
            "_________________________\n",
            "{'sent': 'وقال: \"كل من عليها فإن.', 'score': 0}\n",
            "_________________________\n",
            "{'sent': 'ويبقى وجه ربك ذو الجلال والإكرام\".', 'score': 0}\n",
            "_________________________\n",
            "{'sent': 'ونزل وهو يمسح عبراته بفضلة اللثام.', 'score': 0}\n",
            "_________________________\n",
            "{'sent': 'فخيل للقوم أنه قد هبط من السماء.', 'score': 0}\n",
            "_________________________\n",
            "{'sent': 'وقالوا هذا ممن يمشي على الماء.', 'score': 0}\n",
            "_________________________\n",
            "{'sent': 'ثم أقبلوا يهرعون إليه.', 'score': 0}\n",
            "_________________________\n",
            "{'sent': 'وطفقوا يقبلون يديه.', 'score': 0}\n",
            "_________________________\n",
            "{'sent': 'ويتبركون بمس برديه.', 'score': 0}\n",
            "_________________________\n",
            "{'sent': 'وأتحفه كل منهم بما شاء.', 'score': 0}\n",
            "_________________________\n",
            "{'sent': 'وقالوا له: الدعاء الدعاء!', 'score': 0.5333333333333333}\n",
            "_________________________\n",
            "{'sent': 'فلما أحرز المال هب إلى الفرس.', 'score': 0}\n",
            "_________________________\n",
            "{'sent': 'بأسرع من رجع النفس.', 'score': 0}\n",
            "_________________________\n",
            "{'sent': 'وقام القوم فودعوه.', 'score': 0}\n",
            "_________________________\n",
            "{'sent': 'ثم  تطرقوا فشيعوه.', 'score': 0}\n",
            "_________________________\n",
            "{'sent': 'فلما أبعد عن الربوة.', 'score': 0}\n",
            "_________________________\n",
            "{'sent': 'قيد غلوة.', 'score': 0}\n",
            "_________________________\n",
            "{'sent': 'إذا امرأة كأنها من حور الجنان.', 'score': 0.13333333333333333}\n",
            "_________________________\n",
            "{'sent': 'تنتظره على المكان.', 'score': 0}\n",
            "_________________________\n",
            "{'sent': 'فتأفف وقال: يا لكاع!', 'score': 0}\n",
            "_________________________\n",
            "{'sent': 'لولا حاجة الرفاق.', 'score': 0}\n",
            "_________________________\n",
            "{'sent': 'لأشهدت عليك بالطلاق.', 'score': 0}\n",
            "_________________________\n",
            "{'sent': 'فقالوا: ما هذه الجارية.', 'score': 0}\n",
            "_________________________\n",
            "{'sent': 'يا مبارك الناصية؟ قال: هي امرأة لي صحبتها في هذه الرحلة.', 'score': 0}\n",
            "_________________________\n",
            "{'sent': 'لتخفف عني بعض الثقلة.', 'score': 0}\n",
            "_________________________\n",
            "{'sent': 'فأنضاها الكلال حتى لا تستطيع أن تمشي فنذهب.', 'score': 0}\n",
            "_________________________\n",
            "{'sent': 'ولا أستطيع أن أترجل لتركب.', 'score': 0}\n",
            "_________________________\n",
            "{'sent': 'فتقدم إليها فتى ببرذونة قد امتطاها.', 'score': 0}\n",
            "_________________________\n",
            "{'sent': 'وقال: اركبي باسم الله مجراها.', 'score': 0}\n",
            "_________________________\n",
            "{'sent': 'فقال الشيخ: جزاك الله خير الجزاء وجزاء الخير.', 'score': 0}\n",
            "_________________________\n",
            "{'sent': 'ثم أقسم على القوم فعادوا وكأن على رؤوسهم الطير.', 'score': 0.5333333333333333}\n",
            "_________________________\n",
            "{'sent': 'قال سهيل: وكنت قد عرفت حين أماط اللثام.', 'score': 0}\n",
            "_________________________\n",
            "{'sent': 'أنه ميمون بن خزام.', 'score': 0}\n",
            "_________________________\n",
            "{'sent': 'فقلت: إن الشيخ قد أتى الله بقلب سليم: والله يهدي من يشاء إلى صراط مستقيم.', 'score': 0.8}\n",
            "_________________________\n",
            "{'sent': 'بيد أني طويت عنه كشحي.', 'score': 0}\n",
            "_________________________\n",
            "{'sent': 'لأعلم هل أصاب قدحي.', 'score': 0}\n",
            "_________________________\n",
            "{'sent': 'فتراجعت مع الراجعين.', 'score': 0}\n",
            "_________________________\n",
            "{'sent': 'وتوليت عنه حتى حين.', 'score': 0}\n",
            "_________________________\n",
            "{'sent': 'فمكثت هنيهة أترقبه.', 'score': 0}\n",
            "_________________________\n",
            "{'sent': 'ثم انبعثت أتعقبه.', 'score': 0}\n",
            "_________________________\n",
            "{'sent': 'حتى انتهى إلى دسكرةٍ في الطريق.', 'score': 0}\n",
            "_________________________\n",
            "{'sent': 'بجانب العقيق.', 'score': 0}\n",
            "_________________________\n",
            "{'sent': 'فنزل عن الحجر.', 'score': 0}\n",
            "_________________________\n",
            "{'sent': 'واعتزل إلى حجرة.', 'score': 0}\n",
            "_________________________\n",
            "{'sent': 'وافترش أريكته في ظل حجرة.', 'score': 0}\n",
            "_________________________\n",
            "{'sent': 'فاعتسفت إليه من بعض الجوانب.', 'score': 0}\n",
            "_________________________\n",
            "{'sent': 'وكمنت له كالضاغب.', 'score': 0}\n",
            "_________________________\n",
            "{'sent': 'وإذا به قد احتجر دستجة من الراح.', 'score': 0}\n",
            "_________________________\n",
            "{'sent': 'كزجاجة فيها مصباح.', 'score': 0.13333333333333333}\n",
            "_________________________\n",
            "{'sent': 'وأخذ يتعاطى الأقداح.', 'score': 0}\n",
            "_________________________\n",
            "{'sent': 'ويغازل تلك الخود الرداح.', 'score': 0}\n",
            "_________________________\n",
            "{'sent': 'فلما لعبت بعطفيه الشمول.', 'score': 0}\n",
            "_________________________\n",
            "{'sent': 'مال على أحد جانبيه وأنشأ يقول: \\n سقى الغمام ترب ذاك القبر \\n فقد سقاني من لذيذ الخمر \\n ما لم أذق نظيره في العمر \\n أفادني في اليوم قبل العصر \\n ما لست أستفيده في الشهر \\n وإن أكن ركبت إثم السكر \\n فقد أفدت القوم عند الذكر \\n مواعظاً تلين صلد الصخر \\n فنلت من ذاك عظيم الأجر \\n وصرت أرجو أن يقوم عذري \\n عند الإله في مقام الحشر \\n بأنني كفرت قبل الوزر \\n قال: فلما فرغ من إنشاده المريب.', 'score': 0.5333333333333333}\n",
            "_________________________\n",
            "{'sent': 'طلعت عليه طلعت الذيب.', 'score': 0.5333333333333333}\n",
            "_________________________\n",
            "{'sent': 'وقلت: السلام على الخطيب.', 'score': 0}\n",
            "_________________________\n",
            "{'sent': 'فأجفل إجفال الحمل.', 'score': 0}\n",
            "_________________________\n",
            "{'sent': 'وقال: سبق السيف العذل.', 'score': 0}\n",
            "_________________________\n",
            "{'sent': 'إذا كنت طفيلياً.', 'score': 0}\n",
            "_________________________\n",
            "{'sent': 'فلا تكن فضولياً.', 'score': 0}\n",
            "_________________________\n",
            "{'sent': 'قلت: فمن التي تشرب الكأس من يديها؟ أحليلة بنيت بها أم خليلة أنست إليها؟ قال: إن بينهما نقطة فلا تحاسب عليها.', 'score': 0.5333333333333333}\n",
            "_________________________\n",
            "{'sent': 'والآن قد غلبتني سورة المدام.', 'score': 0}\n",
            "_________________________\n",
            "{'sent': 'وتلعثم لساني عن الكلام.', 'score': 0}\n",
            "_________________________\n",
            "{'sent': 'فاذهب الليلة بالسلام.', 'score': 0}\n",
            "_________________________\n",
            "{'sent': 'وإذا التقينا غداً برزت لك المكنون.', 'score': 0}\n",
            "_________________________\n",
            "{'sent': 'ودرأت عنك الظنون.', 'score': 0}\n",
            "_________________________\n",
            "{'sent': 'قال: فعلمت أنها  من خزعبلاته.', 'score': 0}\n",
            "_________________________\n",
            "{'sent': 'لكنني أجريته على علاته.', 'score': 0}\n",
            "_________________________\n",
            "{'sent': 'فثنيت عنه عناني.', 'score': 0}\n",
            "_________________________\n",
            "{'sent': 'وانثنيت لشاني.', 'score': 0}\n",
            "_________________________\n"
          ]
        }
      ]
    },
    {
      "cell_type": "markdown",
      "source": [],
      "metadata": {
        "id": "MHkmwGWVccfG"
      },
      "id": "MHkmwGWVccfG"
    },
    {
      "cell_type": "code",
      "source": [
        "sum_score_ARFS=0\n",
        "for  i in socre_of_ARFS :\n",
        "\n",
        "  sum_score_ARFS+=i['score']\n",
        "average_score_ARFS=sum_score_ARFS/(len(socre_of_ARFS)+1)\n",
        "#filter sentences according ARFS score \n",
        "for i in socre_of_ARFS:\n",
        "  if i['score']>(2*average_score_ARFS):\n",
        "    print(i['sent'])\n",
        "\n"
      ],
      "metadata": {
        "id": "GeWP1LftcUO2",
        "colab": {
          "base_uri": "https://localhost:8080/"
        },
        "outputId": "26d03df2-5957-4310-fc46-1ab1a7651f78"
      },
      "id": "GeWP1LftcUO2",
      "execution_count": 45,
      "outputs": [
        {
          "output_type": "stream",
          "name": "stdout",
          "text": [
            "وجعلت أقطع ساحة بعد ساحة.\n",
            "واتركوا ما رأيتم نسياً منسياً.\n",
            "وإلا فالبدار البدار.\n",
            "وشمروا الذيل وبادروا الوحى \n",
            " من قبل أن يدعوكم داعي الردى \n",
            " واطرحوا كل نعيم وغنى \n",
            " واستهدفوا لوقع أسهم البلى \n",
            " وأقرضوا الله فنعم من وفى \n",
            " ما أجهل الناس وأذهل النهى \n",
            " لو أن هذا المال في هذا الورى \n",
            " قال: ألست ربكم؟ قالوا: بلى \n",
            " ولما فرغ من أبياته زفر زفرة الضرام.\n",
            "وقالوا له: الدعاء الدعاء!\n",
            "إذا امرأة كأنها من حور الجنان.\n",
            "ثم أقسم على القوم فعادوا وكأن على رؤوسهم الطير.\n",
            "فقلت: إن الشيخ قد أتى الله بقلب سليم: والله يهدي من يشاء إلى صراط مستقيم.\n",
            "كزجاجة فيها مصباح.\n",
            "مال على أحد جانبيه وأنشأ يقول: \n",
            " سقى الغمام ترب ذاك القبر \n",
            " فقد سقاني من لذيذ الخمر \n",
            " ما لم أذق نظيره في العمر \n",
            " أفادني في اليوم قبل العصر \n",
            " ما لست أستفيده في الشهر \n",
            " وإن أكن ركبت إثم السكر \n",
            " فقد أفدت القوم عند الذكر \n",
            " مواعظاً تلين صلد الصخر \n",
            " فنلت من ذاك عظيم الأجر \n",
            " وصرت أرجو أن يقوم عذري \n",
            " عند الإله في مقام الحشر \n",
            " بأنني كفرت قبل الوزر \n",
            " قال: فلما فرغ من إنشاده المريب.\n",
            "طلعت عليه طلعت الذيب.\n",
            "قلت: فمن التي تشرب الكأس من يديها؟ أحليلة بنيت بها أم خليلة أنست إليها؟ قال: إن بينهما نقطة فلا تحاسب عليها.\n"
          ]
        }
      ]
    },
    {
      "cell_type": "markdown",
      "source": [
        "# **get 10% of sentences** "
      ],
      "metadata": {
        "id": "ch4MFbVwWcPL"
      },
      "id": "ch4MFbVwWcPL"
    },
    {
      "cell_type": "code",
      "source": [
        "re=0.10\n",
        "\n",
        "score=[]\n",
        "for i in socre_of_ARFS :\n",
        "  score.append(i['score'])\n",
        "li_index=[]\n",
        "\n",
        "for i in range(int(len(socre_of_ARFS)*re)):\n",
        "\n",
        "  max_index=score.index(max(score))\n",
        "  li_index.append(max_index)\n",
        "  score[max_index]=-1\n",
        "for i in li_index:\n",
        "  print(socre_of_ARFS[i]['sent'])\n",
        "\n",
        "\n",
        "  \n",
        "\n",
        "  \n",
        "\n",
        "\n",
        "\n",
        "\n"
      ],
      "metadata": {
        "id": "XnbkKhHGxqF-",
        "colab": {
          "base_uri": "https://localhost:8080/"
        },
        "outputId": "8fb4de0a-5a16-4a02-8b15-7ec810feb708"
      },
      "id": "XnbkKhHGxqF-",
      "execution_count": 46,
      "outputs": [
        {
          "output_type": "stream",
          "name": "stdout",
          "text": [
            "وشمروا الذيل وبادروا الوحى \n",
            " من قبل أن يدعوكم داعي الردى \n",
            " واطرحوا كل نعيم وغنى \n",
            " واستهدفوا لوقع أسهم البلى \n",
            " وأقرضوا الله فنعم من وفى \n",
            " ما أجهل الناس وأذهل النهى \n",
            " لو أن هذا المال في هذا الورى \n",
            " قال: ألست ربكم؟ قالوا: بلى \n",
            " ولما فرغ من أبياته زفر زفرة الضرام.\n",
            "فقلت: إن الشيخ قد أتى الله بقلب سليم: والله يهدي من يشاء إلى صراط مستقيم.\n",
            "وجعلت أقطع ساحة بعد ساحة.\n",
            "وقالوا له: الدعاء الدعاء!\n",
            "ثم أقسم على القوم فعادوا وكأن على رؤوسهم الطير.\n",
            "مال على أحد جانبيه وأنشأ يقول: \n",
            " سقى الغمام ترب ذاك القبر \n",
            " فقد سقاني من لذيذ الخمر \n",
            " ما لم أذق نظيره في العمر \n",
            " أفادني في اليوم قبل العصر \n",
            " ما لست أستفيده في الشهر \n",
            " وإن أكن ركبت إثم السكر \n",
            " فقد أفدت القوم عند الذكر \n",
            " مواعظاً تلين صلد الصخر \n",
            " فنلت من ذاك عظيم الأجر \n",
            " وصرت أرجو أن يقوم عذري \n",
            " عند الإله في مقام الحشر \n",
            " بأنني كفرت قبل الوزر \n",
            " قال: فلما فرغ من إنشاده المريب.\n",
            "طلعت عليه طلعت الذيب.\n",
            "قلت: فمن التي تشرب الكأس من يديها؟ أحليلة بنيت بها أم خليلة أنست إليها؟ قال: إن بينهما نقطة فلا تحاسب عليها.\n",
            "واتركوا ما رأيتم نسياً منسياً.\n",
            "وإلا فالبدار البدار.\n",
            "إذا امرأة كأنها من حور الجنان.\n"
          ]
        }
      ]
    }
  ],
  "metadata": {
    "colab": {
      "provenance": []
    },
    "kernelspec": {
      "display_name": "Python 3 (ipykernel)",
      "language": "python",
      "name": "python3"
    },
    "language_info": {
      "codemirror_mode": {
        "name": "ipython",
        "version": 3
      },
      "file_extension": ".py",
      "mimetype": "text/x-python",
      "name": "python",
      "nbconvert_exporter": "python",
      "pygments_lexer": "ipython3",
      "version": "3.9.7"
    }
  },
  "nbformat": 4,
  "nbformat_minor": 5
}